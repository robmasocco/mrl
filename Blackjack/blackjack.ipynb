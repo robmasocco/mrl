{
 "metadata": {
  "language_info": {
   "codemirror_mode": {
    "name": "ipython",
    "version": 3
   },
   "file_extension": ".py",
   "mimetype": "text/x-python",
   "name": "python",
   "nbconvert_exporter": "python",
   "pygments_lexer": "ipython3",
   "version": "3.8.8"
  },
  "orig_nbformat": 2,
  "kernelspec": {
   "name": "python388jvsc74a57bd0e22452b2947e29b00a483e943a1e42b28017632f5527b70408aa625d50a3b9ab",
   "display_name": "Python 3.8.8 64-bit ('base': conda)"
  }
 },
 "nbformat": 4,
 "nbformat_minor": 2,
 "cells": [
  {
   "cell_type": "code",
   "execution_count": 1,
   "metadata": {},
   "outputs": [],
   "source": [
    "%run Blackjack.py"
   ]
  },
  {
   "cell_type": "code",
   "execution_count": 2,
   "metadata": {},
   "outputs": [],
   "source": [
    "S = 10*10*2\n",
    "pi = np.zeros(S, dtype=np.int32)\n",
    "\n",
    "for s in range(S):\n",
    "    game = np.asarray(np.unravel_index(s, (10, 10, 2))) + [12, 1, 0]\n",
    "    if game[0] < 17:\n",
    "        pi[s] = 0\n",
    "    else:\n",
    "        pi[s] = 1"
   ]
  },
  {
   "cell_type": "code",
   "execution_count": 8,
   "metadata": {},
   "outputs": [
    {
     "output_type": "stream",
     "name": "stdout",
     "text": [
      "Hand: (12, 0)\tDealer: 1\nHand: (15, 0)\tDealer: 1\nHand: (21, 0)\tDealer: 1\nHand: (21, 0)\tDealer: 21\n[  0  60 180  -1]\n[0. 0. 0.]\n[0. 0. 0.]\n"
     ]
    }
   ],
   "source": [
    "\n",
    "bj = Blackjack(0, 0, pi)\n",
    "bj.play()\n",
    "print(bj.get_states())\n",
    "print(bj.get_actions())\n",
    "print(bj.get_rewards())"
   ]
  },
  {
   "cell_type": "code",
   "execution_count": null,
   "metadata": {},
   "outputs": [],
   "source": []
  }
 ]
}