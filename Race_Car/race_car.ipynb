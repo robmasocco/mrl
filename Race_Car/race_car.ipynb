{
 "metadata": {
  "language_info": {
   "codemirror_mode": {
    "name": "ipython",
    "version": 3
   },
   "file_extension": ".py",
   "mimetype": "text/x-python",
   "name": "python",
   "nbconvert_exporter": "python",
   "pygments_lexer": "ipython3",
   "version": "3.8.8"
  },
  "orig_nbformat": 2,
  "kernelspec": {
   "name": "python388jvsc74a57bd0e22452b2947e29b00a483e943a1e42b28017632f5527b70408aa625d50a3b9ab",
   "display_name": "Python 3.8.8 64-bit ('anaconda3': virtualenv)"
  }
 },
 "nbformat": 4,
 "nbformat_minor": 2,
 "cells": [
  {
   "cell_type": "code",
   "execution_count": 2,
   "metadata": {},
   "outputs": [
    {
     "output_type": "stream",
     "name": "stdout",
     "text": [
      "pygame 2.0.1 (SDL 2.0.14, Python 3.8.8)\nHello from the pygame community. https://www.pygame.org/contribute.html\n"
     ]
    }
   ],
   "source": [
    "%run RaceCar.py\n",
    "import numpy as np\n",
    "import pygame"
   ]
  },
  {
   "cell_type": "code",
   "execution_count": 5,
   "metadata": {},
   "outputs": [],
   "source": [
    "def generate_map(w_cells, h_cells, min_lim, max_lim):\n",
    "    race_map = np.zeros((w_cells, h_cells), dtype=np.int32)\n",
    "    # Set boundaries\n",
    "    race_map[w_cells // 2:, h_cells // 2:] = -1\n",
    "    lims = np.random.randint(min_lim, max_lim, size=4)\n",
    "    for h in range(h_cells):\n",
    "        lims[0] = np.amax([min_lim, np.amin([max_lim, lims[0] + np.random.choice([-1, 0, 1])])])\n",
    "        race_map[h, :lims[0]] = -1\n",
    "        if h > h_cells // 2:\n",
    "            lims[1] = np.amax([min_lim, np.amin([max_lim, lims[1] + np.random.choice([-1, 0, 1])])])\n",
    "            race_map[h, h_cells // 2 - lims[1]:] = -1\n",
    "    for w in range(w_cells):\n",
    "        lims[2] = np.amax([min_lim, np.amin([max_lim, lims[2] + np.random.choice([-1, 0, 1])])])\n",
    "        race_map[:lims[2], w] = -1\n",
    "        if w > w_cells // 2:\n",
    "            lims[3] = np.amax([min_lim, np.amin([max_lim, lims[3] + np.random.choice([-1, 0, 1])])])\n",
    "            race_map[w_cells // 2 - lims[3]:, w] = -1\n",
    "    # Set start line\n",
    "    race_map[-1, np.argwhere(race_map[-1, :] == 0)] = 1\n",
    "    # Set finish line\n",
    "    race_map[np.argwhere(race_map[:, -1] == 0), -1] = 2\n",
    "    return race_map\n",
    "\n",
    "#\n",
    "width = 850\n",
    "height = 850\n",
    "w_cells = 30\n",
    "h_cells = 30\n",
    "min_lim = 1\n",
    "max_lim = 6\n",
    "\n",
    "race_map = generate_map(w_cells, h_cells, min_lim, max_lim)\n",
    "\n",
    "\n",
    "def func():\n",
    "    while True:\n",
    "        draw_map(screen, race_map)\n",
    "        for event in pygame.event.get():\n",
    "            if event.type == pygame.QUIT:\n",
    "                pygame.quit()\n",
    "                sys.exit()\n",
    "        pygame.display.update()"
   ]
  },
  {
   "cell_type": "code",
   "execution_count": 6,
   "metadata": {},
   "outputs": [
    {
     "output_type": "stream",
     "name": "stdout",
     "text": [
      "[[29  3]\n [29  4]\n [29  5]\n [29  6]\n [29  7]\n [29  8]\n [29  9]\n [29 10]\n [29 11]\n [29 12]\n [29 13]]\n"
     ]
    }
   ],
   "source": [
    "# Number of states.\n",
    "S = race_map.shape[0] * race_map.shape[1]\n",
    "init_states = np.argwhere(race_map == 1)\n",
    "terminal_states = np.argwhere(race_map == 2)\n",
    "print(init_states)\n",
    "# Number of actions (considering only \"positive\" movements).\n",
    "actions_x = 6\n",
    "actions_y = 6\n",
    "A = actions_x * actions_y\n",
    "# Init a randomic policy.\n",
    "pi = np.random.randint(A, size=S)\n",
    "# Discount factor.\n",
    "gamma = 1.0\n",
    "# Exploration degree.\n",
    "epsilon = 0.1\n",
    "# Number of episodes.\n",
    "episodes = 100000\n",
    "# Inizialization.\n",
    "N = np.zeros((S, A), dtype=np.int32)\n",
    "Q = np.random.normal(loc=10.0, size=(S, A))\n",
    "for T in terminal_states:\n",
    "    Q[np.ravel_multi_index((T[0], T[1]), (race_map.shape[0], race_map.shape[1])), :] = 0.0\n",
    "\n",
    "# Loop on episodes.\n",
    "for e in range(episodes):\n",
    "    #print(\"NEW: {}\".format(e)) #! DEBUG\n",
    "    # Exploring start.\n",
    "    init_coords = np.copy(init_states[np.random.randint(init_states.shape[0])])\n",
    "    #print(init_coords) #! DEBUG\n",
    "    # Run a game.\n",
    "    car = RaceCar(race_map, init_coords, pi, epsilon, width, height, actions_x, actions_y)\n",
    "    disp = False\n",
    "    if (e > 9950):\n",
    "        disp = True\n",
    "    car.run(disp)\n",
    "    states = car.get_states()\n",
    "    actions = car.get_actions()\n",
    "    rewards = car.get_rewards()\n",
    "    G = 0.0\n",
    "    for t, s_t in reversed(list(enumerate(states))):\n",
    "        G = rewards[t] + gamma * G\n",
    "        N[s_t, actions[t]] += 1\n",
    "        Q[s_t, actions[t]] += (1.0 / N[s_t, actions[t]]) * (G - Q[s_t, actions[t]])\n",
    "        pi[s_t] = np.argmax(Q[s_t, :])"
   ]
  },
  {
   "cell_type": "code",
   "execution_count": 8,
   "metadata": {},
   "outputs": [],
   "source": [
    "N.dump(\"N.dat\")\n",
    "Q.dump(\"Q.dat\")\n",
    "pi.dump(\"pi.dat\")\n",
    "race_map.dump(\"RaceMap.dat\")"
   ]
  },
  {
   "cell_type": "code",
   "execution_count": 7,
   "metadata": {},
   "outputs": [],
   "source": [
    "N = np.load(\"N.dat\", allow_pickle=True)\n",
    "Q = np.load(\"Q.dat\", allow_pickle=True)\n",
    "pi = np.load(\"pi.dat\", allow_pickle=True)\n",
    "race_map = np.load(\"RaceMap.dat\", allow_pickle=True)"
   ]
  },
  {
   "cell_type": "code",
   "execution_count": 27,
   "metadata": {},
   "outputs": [],
   "source": [
    "width = 850\n",
    "height = 850\n",
    "w_cells = 30\n",
    "h_cells = 30\n",
    "min_lim = 1\n",
    "max_lim = 6\n",
    "\n",
    "S = race_map.shape[0] * race_map.shape[1]\n",
    "\n",
    "actions_x = 6\n",
    "actions_y = 6\n",
    "A = actions_x * actions_y\n",
    "\n",
    "init_states = np.argwhere(race_map == 1)\n",
    "init_coords = np.copy(init_states[np.random.randint(init_states.shape[0])])\n",
    "car = RaceCar(race_map, init_coords, pi, 0.0, width, height, actions_x, actions_y)\n",
    "car.run(True)"
   ]
  }
 ]
}