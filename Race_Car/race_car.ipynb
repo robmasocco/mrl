{
 "metadata": {
  "language_info": {
   "codemirror_mode": {
    "name": "ipython",
    "version": 3
   },
   "file_extension": ".py",
   "mimetype": "text/x-python",
   "name": "python",
   "nbconvert_exporter": "python",
   "pygments_lexer": "ipython3",
   "version": "3.7.9"
  },
  "orig_nbformat": 2,
  "kernelspec": {
   "name": "python379jvsc74a57bd01af28833a6dc7d1a151ae007b2488fb1dd1aef320dbb62d15c3e383364d1e2c5",
   "display_name": "Python 3.7.9 64-bit ('base': conda)"
  }
 },
 "nbformat": 4,
 "nbformat_minor": 2,
 "cells": [
  {
   "cell_type": "code",
   "execution_count": 1,
   "metadata": {},
   "outputs": [
    {
     "output_type": "stream",
     "name": "stdout",
     "text": [
      "pygame 2.0.1 (SDL 2.0.14, Python 3.7.9)\nHello from the pygame community. https://www.pygame.org/contribute.html\n"
     ]
    }
   ],
   "source": [
    "%run RaceCar.py\n",
    "import numpy as np\n",
    "import pygame"
   ]
  },
  {
   "cell_type": "code",
   "execution_count": 2,
   "metadata": {},
   "outputs": [],
   "source": [
    "def generate_map(w_cells, h_cells, min_lim, max_lim):\n",
    "    race_map = np.zeros((w_cells, h_cells), dtype=np.int32)\n",
    "    # Set boundaries\n",
    "    race_map[w_cells // 2:, h_cells // 2:] = -1\n",
    "    lims = np.random.randint(min_lim, max_lim, size=4)\n",
    "    for h in range(h_cells):\n",
    "        lims[0] = np.amax([min_lim, np.amin([max_lim, lims[0] + np.random.choice([-1, 0, 1])])])\n",
    "        race_map[h, :lims[0]] = -1\n",
    "        if h > h_cells // 2:\n",
    "            lims[1] = np.amax([min_lim, np.amin([max_lim, lims[1] + np.random.choice([-1, 0, 1])])])\n",
    "            race_map[h, h_cells // 2 - lims[1]:] = -1\n",
    "    for w in range(w_cells):\n",
    "        lims[2] = np.amax([min_lim, np.amin([max_lim, lims[2] + np.random.choice([-1, 0, 1])])])\n",
    "        race_map[:lims[2], w] = -1\n",
    "        if w > w_cells // 2:\n",
    "            lims[3] = np.amax([min_lim, np.amin([max_lim, lims[3] + np.random.choice([-1, 0, 1])])])\n",
    "            race_map[w_cells // 2 - lims[3]:, w] = -1\n",
    "    # Set start line\n",
    "    race_map[-1, np.argwhere(race_map[-1, :] == 0)] = 1\n",
    "    # Set finish line\n",
    "    race_map[np.argwhere(race_map[:, -1] == 0), -1] = 2\n",
    "    return race_map\n",
    "\n",
    "#\n",
    "width = 850\n",
    "height = 850\n",
    "w_cells = 30\n",
    "h_cells = 30\n",
    "min_lim = 1\n",
    "max_lim = 6\n",
    "\n",
    "race_map = generate_map(w_cells, h_cells, min_lim, max_lim)\n",
    "\n",
    "\n",
    "def func():\n",
    "    while True:\n",
    "        draw_map(screen, race_map)\n",
    "        for event in pygame.event.get():\n",
    "            if event.type == pygame.QUIT:\n",
    "                pygame.quit()\n",
    "                sys.exit()\n",
    "        pygame.display.update()"
   ]
  },
  {
   "cell_type": "code",
   "execution_count": 3,
   "metadata": {},
   "outputs": [
    {
     "output_type": "stream",
     "name": "stdout",
     "text": [
      "[[29  6]\n",
      " [29  7]\n",
      " [29  8]\n",
      " [29  9]]\n",
      "NEW: 0\n",
      "NEW: 1\n",
      "NEW: 2\n",
      "NEW: 3\n",
      "NEW: 4\n",
      "NEW: 5\n",
      "NEW: 6\n",
      "NEW: 7\n",
      "NEW: 8\n",
      "NEW: 9\n"
     ]
    }
   ],
   "source": [
    "# Number of states.\n",
    "S = race_map.shape[0] * race_map.shape[1]\n",
    "init_states = np.argwhere(race_map == 1)\n",
    "terminal_states = np.argwhere(race_map == 2)\n",
    "print(init_states)\n",
    "# Number of actions (considering only \"positive\" movements).\n",
    "actions_x = 6\n",
    "actions_y = 6\n",
    "A = actions_x * actions_y\n",
    "# Init a randomic policy.\n",
    "pi = np.random.randint(A, size=S)\n",
    "# Discount factor.\n",
    "gamma = 1.0\n",
    "# Exploration degree.\n",
    "epsilon = 0.1\n",
    "# Number of episodes.\n",
    "episodes = 10000\n",
    "# Inizialization.\n",
    "N = np.zeros((S, A), dtype=np.int32)\n",
    "Q = np.random.normal(loc=10.0, size=(S, A))\n",
    "for T in terminal_states:\n",
    "    Q[np.ravel_multi_index((T[0], T[1]), (race_map.shape[0], race_map.shape[1])), :] = 0.0\n",
    "\n",
    "# Loop on episodes.\n",
    "for e in range(episodes):\n",
    "    print(\"NEW: {}\".format(e)) #! DEBUG\n",
    "    # Exploring start.\n",
    "    init_coords = np.copy(init_states[np.random.randint(init_states.shape[0])])\n",
    "    #print(init_coords) #! DEBUG\n",
    "    # Run a game.\n",
    "    car = RaceCar(race_map, init_coords, pi, epsilon, width, height, actions_x, actions_y)\n",
    "    disp = False\n",
    "    if (e > 9950):\n",
    "        disp = True\n",
    "    car.run(disp)\n",
    "    states = car.get_states()\n",
    "    actions = car.get_actions()\n",
    "    rewards = car.get_rewards()\n",
    "    G = 0.0\n",
    "    for t, s_t in reversed(list(enumerate(states))):\n",
    "        G = rewards[t] + gamma * G\n",
    "        N[s_t, actions[t]] += 1\n",
    "        Q[s_t, actions[t]] += (1.0 / N[s_t, actions[t]]) * (G - Q[s_t, actions[t]])\n",
    "        pi[s_t] = np.argmax(Q[s_t, :])"
   ]
  }
 ]
}