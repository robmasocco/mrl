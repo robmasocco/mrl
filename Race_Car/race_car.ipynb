{
 "metadata": {
  "language_info": {
   "codemirror_mode": {
    "name": "ipython",
    "version": 3
   },
   "file_extension": ".py",
   "mimetype": "text/x-python",
   "name": "python",
   "nbconvert_exporter": "python",
   "pygments_lexer": "ipython3",
   "version": "3.8.8"
  },
  "orig_nbformat": 2,
  "kernelspec": {
   "name": "python388jvsc74a57bd0e22452b2947e29b00a483e943a1e42b28017632f5527b70408aa625d50a3b9ab",
   "display_name": "Python 3.8.8 64-bit ('base': conda)"
  }
 },
 "nbformat": 4,
 "nbformat_minor": 2,
 "cells": [
  {
   "cell_type": "code",
   "execution_count": 3,
   "metadata": {},
   "outputs": [],
   "source": [
    "%run RaceCar.py\n",
    "import numpy as np\n",
    "import pygame"
   ]
  },
  {
   "cell_type": "code",
   "execution_count": 5,
   "metadata": {},
   "outputs": [
    {
     "output_type": "error",
     "ename": "SystemExit",
     "evalue": "",
     "traceback": [
      "An exception has occurred, use %tb to see the full traceback.\n",
      "\u001b[0;31mSystemExit\u001b[0m\n"
     ]
    }
   ],
   "source": [
    "def generate_map(w_cells, h_cells, min_lim, max_lim):\n",
    "    map = np.zeros((w_cells, h_cells), dtype=np.int32)\n",
    "    # Set boundaries\n",
    "    map[w_cells // 2:, h_cells // 2:] = -1\n",
    "    lims = np.random.randint(min_lim, max_lim, size=4)\n",
    "    for h in range(h_cells):\n",
    "        lims[0] = np.amax([min_lim, np.amin([max_lim, lims[0] + np.random.choice([-1, 0, 1])])])\n",
    "        map[h, :lims[0]] = -1\n",
    "        if h > h_cells // 2:\n",
    "            lims[1] = np.amax([min_lim, np.amin([max_lim, lims[1] + np.random.choice([-1, 0, 1])])])\n",
    "            map[h, h_cells // 2 - lims[1]:] = -1\n",
    "    for w in range(w_cells):\n",
    "        lims[2] = np.amax([min_lim, np.amin([max_lim, lims[2] + np.random.choice([-1, 0, 1])])])\n",
    "        map[:lims[2], w] = -1\n",
    "        if w > w_cells // 2:\n",
    "            lims[3] = np.amax([min_lim, np.amin([max_lim, lims[3] + np.random.choice([-1, 0, 1])])])\n",
    "            map[w_cells // 2 - lims[3]:, w] = -1\n",
    "    # Set start line\n",
    "    map[-1, np.argwhere(map[-1, :] == 0)] = 1\n",
    "    # Set finish line\n",
    "    map[np.argwhere(map[:, -1] == 0), -1] = 2\n",
    "    return map\n",
    "\n",
    "def draw_map(screen, map):\n",
    "    w_size = width // map.shape[0]\n",
    "    h_size = height // map.shape[1]\n",
    "    for h in range(map.shape[1]):\n",
    "        for w in range(map.shape[0]):\n",
    "            rect = pygame.Rect(w * w_size, h * h_size, w_size, h_size)\n",
    "            if map[h, w] == -1:\n",
    "                pygame.draw.rect(screen, (50, 50, 50), rect, 0)\n",
    "            elif map[h, w] == 1:\n",
    "                pygame.draw.rect(screen, (0, 200, 0), rect, 0)\n",
    "            elif map[h, w] == 2:\n",
    "                pygame.draw.rect(screen, (200, 0, 0), rect, 0)\n",
    "            else:\n",
    "                pygame.draw.rect(screen, (200, 200, 200), rect, 0)\n",
    "            pygame.draw.rect(screen, (0, 0, 0), rect, 1)\n",
    "\n",
    "#\n",
    "width = 850\n",
    "height = 850\n",
    "w_cells = 30\n",
    "h_cells = 30\n",
    "min_lim = 1\n",
    "max_lim = 6\n",
    "\n",
    "pygame.init()\n",
    "screen = pygame.display.set_mode((width, height))\n",
    "screen.fill(WHITE)\n",
    "clock = pygame.time.Clock()\n",
    "map = generate_map(w_cells, h_cells, min_lim, max_lim)\n",
    "while True:\n",
    "    draw_map(screen, map)\n",
    "    for event in pygame.event.get():\n",
    "        if event.type == pygame.QUIT:\n",
    "            pygame.quit()\n",
    "            sys.exit()\n",
    "    pygame.display.update()"
   ]
  },
  {
   "cell_type": "code",
   "execution_count": null,
   "metadata": {},
   "outputs": [],
   "source": [
    "map = generate_map()\n",
    "# Number of states.\n",
    "S = W_CELLS * H_CELLS\n",
    "# Number of actions.\n",
    "A = 66\n",
    "# Init a randomic policy.\n",
    "pi = np.random.randint(66, size=S)\n",
    "# Discount factor.\n",
    "gamma = 1.0\n",
    "# Exploration degree.\n",
    "epsilon = 0.1\n",
    "# Number of episodes.\n",
    "episodes = 1000\n",
    "# Inizialization.\n",
    "N = np.zeros((S, A), dtype=np.int32)\n",
    "Q = np.zeros((S, A), dtype=np.float64)\n",
    "\n",
    "# Loop on episodes.\n",
    "for e in range(episodes):\n",
    "    # Exploring start.\n",
    "    init_s = np.random.randint(S)\n",
    "    # Run a game.\n",
    "    bj = Blackjack(init_s, pi, epsilon)\n",
    "    bj.play()\n",
    "    states = bj.get_states()\n",
    "    actions = bj.get_actions()\n",
    "    rewards = bj.get_rewards()\n",
    "    G = 0.0\n",
    "    for t, s_t in reversed(list(enumerate(states))):\n",
    "        G = rewards[t] + gamma * G\n",
    "        N[s_t, actions[t]] += 1\n",
    "        Q[s_t, actions[t]] += (1.0 / N[s_t, actions[t]]) * (G - Q[s_t, actions[t]])\n",
    "        pi[s_t] = np.argmax(Q[s_t, :])"
   ]
  }
 ]
}