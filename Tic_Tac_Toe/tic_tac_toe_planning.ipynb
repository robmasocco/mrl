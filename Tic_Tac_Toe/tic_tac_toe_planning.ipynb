{
 "metadata": {
  "language_info": {
   "codemirror_mode": {
    "name": "ipython",
    "version": 3
   },
   "file_extension": ".py",
   "mimetype": "text/x-python",
   "name": "python",
   "nbconvert_exporter": "python",
   "pygments_lexer": "ipython3",
   "version": "3.8.5"
  },
  "orig_nbformat": 2,
  "kernelspec": {
   "name": "python385jvsc74a57bd0e22452b2947e29b00a483e943a1e42b28017632f5527b70408aa625d50a3b9ab",
   "display_name": "Python 3.8.5 64-bit ('base': conda)"
  }
 },
 "nbformat": 4,
 "nbformat_minor": 2,
 "cells": [
  {
   "source": [
    "# TIC TAC TOE Dynamic Programming "
   ],
   "cell_type": "markdown",
   "metadata": {}
  },
  {
   "cell_type": "code",
   "execution_count": null,
   "metadata": {},
   "outputs": [],
   "source": [
    "import os\n",
    "os.chdir('../')\n",
    "import numpy as np\n",
    "import libs.dynamic_programming as dp\n",
    "import matplotlib.pyplot as plt\n",
    "%matplotlib inline"
   ]
  },
  {
   "cell_type": "code",
   "execution_count": null,
   "metadata": {},
   "outputs": [],
   "source": [
    "# Reload lookup tables, P and R matrices.\n",
    "id_state_lkt = np.load(\"Tic_Tac_Toe/ttt_id2s.dat\", allow_pickle=True)\n",
    "state_id_lkt = np.load(\"Tic_Tac_Toe/ttt_s2id.dat\", allow_pickle=True)\n",
    "P = np.load(\"Tic_Tac_Toe/ttt_P.dat\", allow_pickle=True)\n",
    "R = np.load(\"Tic_Tac_Toe/ttt_R.dat\", allow_pickle=True)\n",
    "# Number of states and actions.\n",
    "S = P.shape[0]\n",
    "A = R.shape[1]\n",
    "# Model discount factor.\n",
    "gamma = 1\n",
    "# Seed random generator.\n",
    "np.random.seed(42)\n",
    "# Initial values.\n",
    "p_init = np.random.randint(A, size=S)\n",
    "v_init = np.zeros(S)\n",
    "# v_init = np.random.normal(size=S)\n",
    "# for s in range(S):\n",
    "#     if state_id_lkt[s, 0] == 1:\n",
    "#         v_init[s] = 0.0"
   ]
  },
  {
   "source": [
    "## Policy Iteration"
   ],
   "cell_type": "markdown",
   "metadata": {}
  },
  {
   "cell_type": "code",
   "execution_count": null,
   "metadata": {},
   "outputs": [],
   "source": [
    "p_star_pi, v_star_pi = dp.policy_iteration(P, R, gamma, v_init, p_init)"
   ]
  },
  {
   "source": [
    "## Value Iteration"
   ],
   "cell_type": "markdown",
   "metadata": {}
  },
  {
   "cell_type": "code",
   "execution_count": null,
   "metadata": {},
   "outputs": [],
   "source": [
    "p_star_vi, v_star_vi = dp.value_iteration(P, R, gamma, v_init)"
   ]
  },
  {
   "cell_type": "code",
   "execution_count": null,
   "metadata": {},
   "outputs": [],
   "source": []
  }
 ]
}