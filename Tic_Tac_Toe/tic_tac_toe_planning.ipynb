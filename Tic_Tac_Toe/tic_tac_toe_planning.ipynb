{
 "metadata": {
  "language_info": {
   "codemirror_mode": {
    "name": "ipython",
    "version": 3
   },
   "file_extension": ".py",
   "mimetype": "text/x-python",
   "name": "python",
   "nbconvert_exporter": "python",
   "pygments_lexer": "ipython3",
   "version": "3.8.8"
  },
  "orig_nbformat": 2,
  "kernelspec": {
   "name": "python388jvsc74a57bd0e22452b2947e29b00a483e943a1e42b28017632f5527b70408aa625d50a3b9ab",
   "display_name": "Python 3.8.8 64-bit ('base': conda)"
  },
  "metadata": {
   "interpreter": {
    "hash": "220a9a68d505f4c7a51e008be3a4ccd0bc283392114da512e1670c540685869c"
   }
  }
 },
 "nbformat": 4,
 "nbformat_minor": 2,
 "cells": [
  {
   "source": [
    "# TIC-TAC-TOE Dynamic Programming "
   ],
   "cell_type": "markdown",
   "metadata": {}
  },
  {
   "cell_type": "code",
   "execution_count": 1,
   "metadata": {},
   "outputs": [],
   "source": [
    "import numpy as np\n",
    "import matplotlib.pyplot as plt\n",
    "%matplotlib inline\n",
    "%run tic_tac_toe_aux_funcs.py\n",
    "%run ../libs/dynamic_programming.py"
   ]
  },
  {
   "cell_type": "code",
   "execution_count": 2,
   "metadata": {},
   "outputs": [],
   "source": [
    "# Reload lookup tables, P and R matrices.\n",
    "id_state_lkt = np.load(\"ttt_id2s.dat\", allow_pickle=True)\n",
    "state_id_lkt = np.load(\"ttt_s2id.dat\", allow_pickle=True)\n",
    "P = np.load(\"ttt_P.dat\", allow_pickle=True)\n",
    "R = np.load(\"ttt_R.dat\", allow_pickle=True)\n",
    "# Number of states and actions.\n",
    "S = P.shape[0]\n",
    "A = R.shape[1]\n",
    "# Model discount factor.\n",
    "gamma = 1.0\n",
    "# Seed random generator.\n",
    "np.random.seed(42)\n",
    "# Initial values.\n",
    "# p_init = np.random.randint(A, size=S)\n",
    "p_init = np.zeros(S, np.int32)\n",
    "for s in range(S - 3):\n",
    "    info = state_id_lkt[s]\n",
    "    p_init[s] = np.random.choice(get_actions(info[2]))\n",
    "\n",
    "v_init = np.random.normal(size=S)\n",
    "#v_init = np.zeros(S, dtype=np.float128)\n",
    "v_init[-3:] = 0.0"
   ]
  },
  {
   "source": [
    "## Policy Iteration"
   ],
   "cell_type": "markdown",
   "metadata": {}
  },
  {
   "cell_type": "code",
   "execution_count": 3,
   "metadata": {},
   "outputs": [],
   "source": [
    "p_star_pi, v_star_pi = policy_iteration(P, R, gamma, v_init, p_init)"
   ]
  },
  {
   "source": [
    "## Value Iteration"
   ],
   "cell_type": "markdown",
   "metadata": {}
  },
  {
   "cell_type": "code",
   "execution_count": 4,
   "metadata": {
    "tags": []
   },
   "outputs": [
    {
     "output_type": "stream",
     "name": "stdout",
     "text": [
      "65.5071954674826664 2423\n",
      "16.235180402450921219 822\n",
      "1.6534092107856501244 184\n",
      "0.048696343891525019164 12\n",
      "0.00067032119367358821566 1\n",
      "0.0 0\n"
     ]
    }
   ],
   "source": [
    "p_star_vi, v_star_vi = value_iteration(P, R, gamma, v_init, tol=1e-8)"
   ]
  },
  {
   "cell_type": "code",
   "execution_count": 5,
   "metadata": {},
   "outputs": [
    {
     "output_type": "stream",
     "name": "stdout",
     "text": [
      "[0 1 4 7 8]\n###########\n   |   | O \n---+---+---\n O |   | X \n---+---+---\n X |   |   \n###########\n7\n###########\n   |   | O \n---+---+---\n O |   | X \n---+---+---\n X | X |   \n###########\n[1 4 8]\n###########\n O |   | O \n---+---+---\n O |   | X \n---+---+---\n X | X |   \n###########\n8\n###########\n O |   | O \n---+---+---\n O |   | X \n---+---+---\n X | X | X \n###########\n"
     ]
    }
   ],
   "source": [
    "s = 340\n",
    "id = state_id_lkt[s, 2]\n",
    "print(get_actions(id))\n",
    "board = id_to_board(id)\n",
    "print_board(board)\n",
    "print(p_star_pi[s])\n",
    "id = id + 3 ** (8 - p_star_pi[s])\n",
    "board = id_to_board(id)\n",
    "print_board(board)\n",
    "\n",
    "id = id + 2 * (3 ** (8 - 0))\n",
    "\n",
    "s = id_state_lkt[id, 4]\n",
    "id = state_id_lkt[s, 2]\n",
    "print(get_actions(id))\n",
    "board = id_to_board(id)\n",
    "print_board(board)\n",
    "print(p_star_pi[s])\n",
    "id = id + 3 ** (8 - p_star_pi[s])\n",
    "board = id_to_board(id)\n",
    "print_board(board)"
   ]
  },
  {
   "cell_type": "code",
   "execution_count": 6,
   "metadata": {},
   "outputs": [
    {
     "output_type": "stream",
     "name": "stdout",
     "text": [
      "[0 1 2 3 4 5 6 7 8]\n###########\n   |   |   \n---+---+---\n   |   |   \n---+---+---\n   |   |   \n###########\n0\n###########\n X |   |   \n---+---+---\n   |   |   \n---+---+---\n   |   |   \n###########\n[2 3 4 5 6 7 8]\n###########\n X | O |   \n---+---+---\n   |   |   \n---+---+---\n   |   |   \n###########\n3\n###########\n X | O |   \n---+---+---\n X |   |   \n---+---+---\n   |   |   \n###########\n[4 5 6 7 8]\n###########\n X | O | O \n---+---+---\n X |   |   \n---+---+---\n   |   |   \n###########\n6\n###########\n X | O | O \n---+---+---\n X |   |   \n---+---+---\n X |   |   \n###########\n"
     ]
    },
    {
     "output_type": "error",
     "ename": "ValueError",
     "evalue": "invalid literal for int() with base 10: '-'",
     "traceback": [
      "\u001b[0;31m---------------------------------------------------------------------------\u001b[0m",
      "\u001b[0;31mValueError\u001b[0m                                Traceback (most recent call last)",
      "\u001b[0;32m<ipython-input-6-125128a3189a>\u001b[0m in \u001b[0;36m<module>\u001b[0;34m\u001b[0m\n\u001b[1;32m     37\u001b[0m \u001b[0ms\u001b[0m \u001b[0;34m=\u001b[0m \u001b[0mid_state_lkt\u001b[0m\u001b[0;34m[\u001b[0m\u001b[0mid\u001b[0m\u001b[0;34m,\u001b[0m \u001b[0;36m4\u001b[0m\u001b[0;34m]\u001b[0m\u001b[0;34m\u001b[0m\u001b[0;34m\u001b[0m\u001b[0m\n\u001b[1;32m     38\u001b[0m \u001b[0mid\u001b[0m \u001b[0;34m=\u001b[0m \u001b[0mstate_id_lkt\u001b[0m\u001b[0;34m[\u001b[0m\u001b[0ms\u001b[0m\u001b[0;34m,\u001b[0m \u001b[0;36m2\u001b[0m\u001b[0;34m]\u001b[0m\u001b[0;34m\u001b[0m\u001b[0;34m\u001b[0m\u001b[0m\n\u001b[0;32m---> 39\u001b[0;31m \u001b[0mprint\u001b[0m\u001b[0;34m(\u001b[0m\u001b[0mget_actions\u001b[0m\u001b[0;34m(\u001b[0m\u001b[0mid\u001b[0m\u001b[0;34m)\u001b[0m\u001b[0;34m)\u001b[0m\u001b[0;34m\u001b[0m\u001b[0;34m\u001b[0m\u001b[0m\n\u001b[0m\u001b[1;32m     40\u001b[0m \u001b[0mboard\u001b[0m \u001b[0;34m=\u001b[0m \u001b[0mid_to_board\u001b[0m\u001b[0;34m(\u001b[0m\u001b[0mid\u001b[0m\u001b[0;34m)\u001b[0m\u001b[0;34m\u001b[0m\u001b[0;34m\u001b[0m\u001b[0m\n\u001b[1;32m     41\u001b[0m \u001b[0mprint_board\u001b[0m\u001b[0;34m(\u001b[0m\u001b[0mboard\u001b[0m\u001b[0;34m)\u001b[0m\u001b[0;34m\u001b[0m\u001b[0;34m\u001b[0m\u001b[0m\n",
      "\u001b[0;32m~/Documents/GitHub/mrl/Tic_Tac_Toe/tic_tac_toe_aux_funcs.py\u001b[0m in \u001b[0;36mget_actions\u001b[0;34m(id)\u001b[0m\n\u001b[1;32m    119\u001b[0m \u001b[0;32mdef\u001b[0m \u001b[0mget_actions\u001b[0m\u001b[0;34m(\u001b[0m\u001b[0mid\u001b[0m\u001b[0;34m)\u001b[0m\u001b[0;34m:\u001b[0m\u001b[0;34m\u001b[0m\u001b[0;34m\u001b[0m\u001b[0m\n\u001b[1;32m    120\u001b[0m     \u001b[0;34m\"\"\"Takes a id and returns the possible actions to be taken.\"\"\"\u001b[0m\u001b[0;34m\u001b[0m\u001b[0;34m\u001b[0m\u001b[0m\n\u001b[0;32m--> 121\u001b[0;31m     \u001b[0mflat_board\u001b[0m \u001b[0;34m=\u001b[0m \u001b[0mid_to_board\u001b[0m\u001b[0;34m(\u001b[0m\u001b[0mid\u001b[0m\u001b[0;34m)\u001b[0m\u001b[0;34m.\u001b[0m\u001b[0mflatten\u001b[0m\u001b[0;34m(\u001b[0m\u001b[0;34m)\u001b[0m\u001b[0;34m\u001b[0m\u001b[0;34m\u001b[0m\u001b[0m\n\u001b[0m\u001b[1;32m    122\u001b[0m     \u001b[0;32mreturn\u001b[0m \u001b[0mnp\u001b[0m\u001b[0;34m.\u001b[0m\u001b[0mwhere\u001b[0m\u001b[0;34m(\u001b[0m\u001b[0mflat_board\u001b[0m \u001b[0;34m==\u001b[0m \u001b[0mflat_board\u001b[0m\u001b[0;34m.\u001b[0m\u001b[0mmin\u001b[0m\u001b[0;34m(\u001b[0m\u001b[0;34m)\u001b[0m\u001b[0;34m)\u001b[0m\u001b[0;34m[\u001b[0m\u001b[0;36m0\u001b[0m\u001b[0;34m]\u001b[0m\u001b[0;34m\u001b[0m\u001b[0;34m\u001b[0m\u001b[0m\n\u001b[1;32m    123\u001b[0m \u001b[0;34m\u001b[0m\u001b[0m\n",
      "\u001b[0;32m~/Documents/GitHub/mrl/Tic_Tac_Toe/tic_tac_toe_aux_funcs.py\u001b[0m in \u001b[0;36mid_to_board\u001b[0;34m(id)\u001b[0m\n\u001b[1;32m     40\u001b[0m     \u001b[0;34m\"\"\"Takes a base-10 board ID and returns a board matrix.\"\"\"\u001b[0m\u001b[0;34m\u001b[0m\u001b[0;34m\u001b[0m\u001b[0m\n\u001b[1;32m     41\u001b[0m     \u001b[0mboard_str\u001b[0m \u001b[0;34m=\u001b[0m \u001b[0mnp\u001b[0m\u001b[0;34m.\u001b[0m\u001b[0mbase_repr\u001b[0m\u001b[0;34m(\u001b[0m\u001b[0mid\u001b[0m\u001b[0;34m,\u001b[0m \u001b[0mbase\u001b[0m\u001b[0;34m=\u001b[0m\u001b[0;36m3\u001b[0m\u001b[0;34m)\u001b[0m\u001b[0;34m.\u001b[0m\u001b[0mzfill\u001b[0m\u001b[0;34m(\u001b[0m\u001b[0;36m9\u001b[0m\u001b[0;34m)\u001b[0m\u001b[0;34m\u001b[0m\u001b[0;34m\u001b[0m\u001b[0m\n\u001b[0;32m---> 42\u001b[0;31m     \u001b[0;32mreturn\u001b[0m \u001b[0mnp\u001b[0m\u001b[0;34m.\u001b[0m\u001b[0marray\u001b[0m\u001b[0;34m(\u001b[0m\u001b[0mlist\u001b[0m\u001b[0;34m(\u001b[0m\u001b[0mboard_str\u001b[0m\u001b[0;34m)\u001b[0m\u001b[0;34m,\u001b[0m \u001b[0mdtype\u001b[0m\u001b[0;34m=\u001b[0m\u001b[0mnp\u001b[0m\u001b[0;34m.\u001b[0m\u001b[0mint32\u001b[0m\u001b[0;34m)\u001b[0m\u001b[0;34m.\u001b[0m\u001b[0mreshape\u001b[0m\u001b[0;34m(\u001b[0m\u001b[0;36m3\u001b[0m\u001b[0;34m,\u001b[0m \u001b[0;36m3\u001b[0m\u001b[0;34m)\u001b[0m\u001b[0;34m\u001b[0m\u001b[0;34m\u001b[0m\u001b[0m\n\u001b[0m\u001b[1;32m     43\u001b[0m \u001b[0;34m\u001b[0m\u001b[0m\n\u001b[1;32m     44\u001b[0m \u001b[0;32mdef\u001b[0m \u001b[0mfind_win\u001b[0m\u001b[0;34m(\u001b[0m\u001b[0mboard\u001b[0m\u001b[0;34m,\u001b[0m \u001b[0mmarker\u001b[0m\u001b[0;34m)\u001b[0m\u001b[0;34m:\u001b[0m\u001b[0;34m\u001b[0m\u001b[0;34m\u001b[0m\u001b[0m\n",
      "\u001b[0;31mValueError\u001b[0m: invalid literal for int() with base 10: '-'"
     ]
    }
   ],
   "source": [
    "s = 0\n",
    "id = state_id_lkt[s, 2]\n",
    "print(get_actions(id))\n",
    "board = id_to_board(id)\n",
    "print_board(board)\n",
    "print(p_star_pi[s])\n",
    "id = id + 3 ** (8 - p_star_pi[s])\n",
    "board = id_to_board(id)\n",
    "print_board(board)\n",
    "\n",
    "id = id + 2 * (3 ** (8 - 1))\n",
    "\n",
    "s = id_state_lkt[id, 4]\n",
    "id = state_id_lkt[s, 2]\n",
    "print(get_actions(id))\n",
    "board = id_to_board(id)\n",
    "print_board(board)\n",
    "print(p_star_pi[s])\n",
    "id = id + 3 ** (8 - p_star_pi[s])\n",
    "board = id_to_board(id)\n",
    "print_board(board)\n",
    "\n",
    "id = id + 2 * (3 ** (8 - 2))\n",
    "\n",
    "s = id_state_lkt[id, 4]\n",
    "id = state_id_lkt[s, 2]\n",
    "print(get_actions(id))\n",
    "board = id_to_board(id)\n",
    "print_board(board)\n",
    "print(p_star_pi[s])\n",
    "id = id + 3 ** (8 - p_star_pi[s])\n",
    "board = id_to_board(id)\n",
    "print_board(board)\n",
    "\n",
    "id = id + 2 * (3 ** (8 - 5))\n",
    "\n",
    "s = id_state_lkt[id, 4]\n",
    "id = state_id_lkt[s, 2]\n",
    "print(get_actions(id))\n",
    "board = id_to_board(id)\n",
    "print_board(board)\n",
    "print(p_star_pi[s])\n",
    "id = id + 3 ** (8 - p_star_pi[s])\n",
    "board = id_to_board(id)\n",
    "print_board(board)"
   ]
  }
 ]
}