{
 "metadata": {
  "language_info": {
   "codemirror_mode": {
    "name": "ipython",
    "version": 3
   },
   "file_extension": ".py",
   "mimetype": "text/x-python",
   "name": "python",
   "nbconvert_exporter": "python",
   "pygments_lexer": "ipython3",
   "version": "3.8.8"
  },
  "orig_nbformat": 2,
  "kernelspec": {
   "name": "python388jvsc74a57bd0e22452b2947e29b00a483e943a1e42b28017632f5527b70408aa625d50a3b9ab",
   "display_name": "Python 3.8.8 64-bit ('base': conda)"
  },
  "metadata": {
   "interpreter": {
    "hash": "220a9a68d505f4c7a51e008be3a4ccd0bc283392114da512e1670c540685869c"
   }
  }
 },
 "nbformat": 4,
 "nbformat_minor": 2,
 "cells": [
  {
   "source": [
    "# TIC-TAC-TOE Dynamic Programming "
   ],
   "cell_type": "markdown",
   "metadata": {}
  },
  {
   "cell_type": "code",
   "execution_count": 1,
   "metadata": {},
   "outputs": [],
   "source": [
    "import numpy as np\n",
    "import matplotlib.pyplot as plt\n",
    "%matplotlib inline\n",
    "%run tic_tac_toe_aux_funcs.py\n",
    "%run ../libs/dynamic_programming.py"
   ]
  },
  {
   "cell_type": "code",
   "execution_count": 2,
   "metadata": {},
   "outputs": [],
   "source": [
    "# Reload lookup tables, P and R matrices.\n",
    "id_state_lkt = np.load(\"ttt_id2s.dat\", allow_pickle=True)\n",
    "state_id_lkt = np.load(\"ttt_s2id.dat\", allow_pickle=True)\n",
    "P = np.load(\"ttt_P.dat\", allow_pickle=True)\n",
    "R = np.load(\"ttt_R.dat\", allow_pickle=True)\n",
    "# Number of states and actions.\n",
    "S = P.shape[0]\n",
    "A = R.shape[1]\n",
    "# Model discount factor.\n",
    "gamma = 1.0\n",
    "# Seed random generator.\n",
    "np.random.seed(42)\n",
    "# Initial values.\n",
    "# p_init = np.random.randint(A, size=S)\n",
    "p_init = np.zeros(S, np.int32)\n",
    "for s in range(S - 3):\n",
    "    info = state_id_lkt[s]\n",
    "    p_init[s] = np.random.choice(get_actions(info[2]))\n",
    "\n",
    "v_init = np.random.normal(size=S)\n",
    "#v_init = np.zeros(S, dtype=np.float128)\n",
    "v_init[-3:] = 0.0"
   ]
  },
  {
   "source": [
    "## Policy Iteration"
   ],
   "cell_type": "markdown",
   "metadata": {}
  },
  {
   "cell_type": "code",
   "execution_count": 3,
   "metadata": {},
   "outputs": [],
   "source": [
    "p_star_pi, v_star_pi = policy_iteration(P, R, gamma, v_init, p_init)"
   ]
  },
  {
   "source": [
    "## Value Iteration"
   ],
   "cell_type": "markdown",
   "metadata": {}
  },
  {
   "cell_type": "code",
   "execution_count": 4,
   "metadata": {
    "tags": []
   },
   "outputs": [
    {
     "output_type": "stream",
     "name": "stdout",
     "text": [
      "1438.0845641233392748 338\n800.1266680249536291 119\n139.00629099475484159 40\n16.327946327194622057 6\n0.0037220509341977653373 1\n0.0 0\n"
     ]
    }
   ],
   "source": [
    "p_star_vi, v_star_vi = value_iteration(P, R, gamma, v_init, tol=1e-8)"
   ]
  },
  {
   "cell_type": "code",
   "execution_count": 5,
   "metadata": {},
   "outputs": [
    {
     "output_type": "stream",
     "name": "stdout",
     "text": [
      "[0 1 3 4 8]\n###########\n   |   | X \n---+---+---\n   |   | O \n---+---+---\n X | O |   \n###########\n0\n###########\n X |   | X \n---+---+---\n   |   | O \n---+---+---\n X | O |   \n###########\n"
     ]
    }
   ],
   "source": [
    "s = 74\n",
    "id = state_id_lkt[s, 2]\n",
    "print(get_actions(id))\n",
    "board = id_to_board(id)\n",
    "print_board(board)\n",
    "print(p_star_pi[s])\n",
    "new_id = id + 3 ** (8 - p_star_pi[s])\n",
    "new_board = id_to_board(new_id)\n",
    "print_board(new_board)"
   ]
  },
  {
   "cell_type": "code",
   "execution_count": 6,
   "metadata": {},
   "outputs": [
    {
     "output_type": "stream",
     "name": "stdout",
     "text": [
      "[0 1 3 4 8]\n###########\n   |   | X \n---+---+---\n   |   | O \n---+---+---\n X | O |   \n###########\n0\n###########\n X |   | X \n---+---+---\n   |   | O \n---+---+---\n X | O |   \n###########\n"
     ]
    }
   ],
   "source": [
    "s = 74\n",
    "id = state_id_lkt[s, 2]\n",
    "print(get_actions(id))\n",
    "board = id_to_board(id)\n",
    "print_board(board)\n",
    "print(p_star_vi[s])\n",
    "new_id = id + 3 ** (8 - p_star_vi[s])\n",
    "new_board = id_to_board(new_id)\n",
    "print_board(new_board)"
   ]
  },
  {
   "cell_type": "code",
   "execution_count": 7,
   "metadata": {},
   "outputs": [
    {
     "output_type": "stream",
     "name": "stdout",
     "text": [
      "###########\n   |   | X \n---+---+---\n   |   | O \n---+---+---\n X | O |   \n###########\n###########\n   |   | X \n---+---+---\n   | X | O \n---+---+---\n X | O |   \n###########\n[  1   1   0   0 339]\n[0. 0. 0. 0. 1. 0. 0. 0. 0.]\n[  0.   0.  -1.   0. 100.  -1.  -1.  -1.   0.]\n"
     ]
    }
   ],
   "source": [
    "s = 74\n",
    "id = state_id_lkt[s, 2]\n",
    "board = id_to_board(id)\n",
    "print_board(board)\n",
    "id += 3 ** (8 - 4)\n",
    "board = id_to_board(id)\n",
    "print_board(board)\n",
    "print(id_state_lkt[id])\n",
    "print(P[74, 339, :])\n",
    "print(R[74, :])"
   ]
  },
  {
   "cell_type": "code",
   "execution_count": null,
   "metadata": {},
   "outputs": [],
   "source": []
  }
 ]
}