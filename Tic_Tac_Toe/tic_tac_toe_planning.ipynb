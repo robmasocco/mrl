{
 "metadata": {
  "language_info": {
   "codemirror_mode": {
    "name": "ipython",
    "version": 3
   },
   "file_extension": ".py",
   "mimetype": "text/x-python",
   "name": "python",
   "nbconvert_exporter": "python",
   "pygments_lexer": "ipython3",
   "version": "3.8.8"
  },
  "orig_nbformat": 2,
  "kernelspec": {
   "name": "python388jvsc74a57bd0e22452b2947e29b00a483e943a1e42b28017632f5527b70408aa625d50a3b9ab",
   "display_name": "Python 3.8.8 64-bit ('base': conda)"
  },
  "metadata": {
   "interpreter": {
    "hash": "220a9a68d505f4c7a51e008be3a4ccd0bc283392114da512e1670c540685869c"
   }
  }
 },
 "nbformat": 4,
 "nbformat_minor": 2,
 "cells": [
  {
   "source": [
    "# TIC-TAC-TOE Dynamic Programming "
   ],
   "cell_type": "markdown",
   "metadata": {}
  },
  {
   "cell_type": "code",
   "execution_count": 1,
   "metadata": {},
   "outputs": [],
   "source": [
    "import numpy as np\n",
    "import matplotlib.pyplot as plt\n",
    "%matplotlib inline\n",
    "%run tic_tac_toe_aux_funcs.py\n",
    "%run ../libs/dynamic_programming.py"
   ]
  },
  {
   "cell_type": "code",
   "execution_count": 2,
   "metadata": {},
   "outputs": [],
   "source": [
    "# Reload lookup tables, P and R matrices.\n",
    "id_state_lkt = np.load(\"ttt_id2s.dat\", allow_pickle=True)\n",
    "state_id_lkt = np.load(\"ttt_s2id.dat\", allow_pickle=True)\n",
    "P = np.load(\"ttt_P.dat\", allow_pickle=True)\n",
    "R = np.load(\"ttt_R.dat\", allow_pickle=True)\n",
    "# Number of states and actions.\n",
    "S = P.shape[0]\n",
    "A = R.shape[1]\n",
    "# Model discount factor.\n",
    "gamma = 1.0\n",
    "\n",
    "# Initial values.\n",
    "p_init = np.random.randint(A, size=S)\n",
    "# p_init = np.zeros(S, np.int32)\n",
    "for s in range(S - 3):\n",
    "    info = state_id_lkt[s]\n",
    "    p_init[s] = np.random.choice(get_actions(info[2]))\n",
    "\n",
    "v_init = np.random.normal(size=S)\n",
    "v_init[-3:] = 0.0"
   ]
  },
  {
   "source": [
    "## Policy Iteration"
   ],
   "cell_type": "markdown",
   "metadata": {}
  },
  {
   "cell_type": "code",
   "execution_count": 3,
   "metadata": {},
   "outputs": [],
   "source": [
    "p_star_pi, v_star_pi = policy_iteration(P, R, gamma, v_init, p_init)\n",
    "p_star_pi.dump(\"ttt_p_pi.dat\")"
   ]
  },
  {
   "source": [
    "## Value Iteration"
   ],
   "cell_type": "markdown",
   "metadata": {}
  },
  {
   "cell_type": "code",
   "execution_count": 4,
   "metadata": {
    "tags": []
   },
   "outputs": [
    {
     "output_type": "stream",
     "name": "stdout",
     "text": [
      "24.89418342943720039 338\n",
      "6.8875227619317468306 171\n",
      "3.157142984544348074 124\n",
      "1.1418910795712650669 67\n",
      "0.26837843460512984594 28\n",
      "0.023096118624224003728 5\n",
      "0.0006576872180308357971 1\n",
      "0.0 0\n"
     ]
    }
   ],
   "source": [
    "p_star_vi, v_star_vi = value_iteration(P, R, gamma, v_init)\n",
    "p_star_vi.dump(\"ttt_p_vi.dat\")"
   ]
  },
  {
   "cell_type": "code",
   "execution_count": 7,
   "metadata": {},
   "outputs": [
    {
     "output_type": "stream",
     "name": "stdout",
     "text": [
      "###########\n",
      "   |   |   \n",
      "---+---+---\n",
      "   |   |   \n",
      "---+---+---\n",
      "   |   |   \n",
      "###########\n",
      "###########\n",
      " X |   |   \n",
      "---+---+---\n",
      "   |   |   \n",
      "---+---+---\n",
      "   |   |   \n",
      "###########\n",
      "###########\n",
      " X |   | O \n",
      "---+---+---\n",
      "   |   |   \n",
      "---+---+---\n",
      " X |   |   \n",
      "###########\n",
      "###########\n",
      " X |   | O \n",
      "---+---+---\n",
      "   |   |   \n",
      "---+---+---\n",
      " X | O | X \n",
      "###########\n",
      "###########\n",
      " X | O | O \n",
      "---+---+---\n",
      " X |   |   \n",
      "---+---+---\n",
      " X | O | X \n",
      "###########\n",
      "WIN\n"
     ]
    }
   ],
   "source": [
    "def rand_action(actions_O):\n",
    "    return np.random.choice(actions_O)\n",
    "\n",
    "def user_action(actions_O):\n",
    "    while True:\n",
    "        a_O = int(input(\"Enter number from 0 to 8: \"))\n",
    "        if a_O in actions_O:\n",
    "            break\n",
    "    return a_O\n",
    "\n",
    "s = 0\n",
    "id = state_id_lkt[s, 2]\n",
    "print_board(id_to_board(id))\n",
    "while True:\n",
    "    # X's turn\n",
    "    info = id_state_lkt[id]\n",
    "    a_X = map_action(p_star_vi[info[4]], info[2], info[3])[0]\n",
    "    id += 3 ** (8 - a_X)\n",
    "    print_board(id_to_board(id))\n",
    "    if id_state_lkt[id, 0] == 1:\n",
    "        if id_state_lkt[id, 0] == 0:\n",
    "            print(\"DRAW\")\n",
    "        elif id_state_lkt[id, 0] == 1:\n",
    "            print(\"WIN\")\n",
    "        else:\n",
    "            print(\"LOSS, wtf?\")\n",
    "        break\n",
    "    # O's turn\n",
    "    actions_O = get_actions(id)\n",
    "    a_O = user_action(actions_O)\n",
    "    id += 2 * (3 ** (8 - a_O))"
   ]
  },
  {
   "cell_type": "code",
   "execution_count": null,
   "metadata": {},
   "outputs": [],
   "source": []
  }
 ]
}