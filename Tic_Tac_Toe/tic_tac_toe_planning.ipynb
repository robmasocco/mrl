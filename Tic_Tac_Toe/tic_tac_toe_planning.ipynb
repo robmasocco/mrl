{
 "metadata": {
  "language_info": {
   "codemirror_mode": {
    "name": "ipython",
    "version": 3
   },
   "file_extension": ".py",
   "mimetype": "text/x-python",
   "name": "python",
   "nbconvert_exporter": "python",
   "pygments_lexer": "ipython3",
   "version": "3.7.9-final"
  },
  "orig_nbformat": 2,
  "kernelspec": {
   "name": "python3",
   "display_name": "Python 3.7.9 64-bit ('MachineLearning': conda)",
   "metadata": {
    "interpreter": {
     "hash": "d8a195330d7b39ab8358992b1258f0c44024a399da233a32fe08e0c9d3e1ad0d"
    }
   }
  },
  "metadata": {
   "interpreter": {
    "hash": "220a9a68d505f4c7a51e008be3a4ccd0bc283392114da512e1670c540685869c"
   }
  }
 },
 "nbformat": 4,
 "nbformat_minor": 2,
 "cells": [
  {
   "source": [
    "# TIC-TAC-TOE Dynamic Programming "
   ],
   "cell_type": "markdown",
   "metadata": {}
  },
  {
   "cell_type": "code",
   "execution_count": 1,
   "metadata": {},
   "outputs": [],
   "source": [
    "import numpy as np\n",
    "import matplotlib.pyplot as plt\n",
    "%matplotlib inline\n",
    "%run tic_tac_toe_aux_funcs.py\n",
    "%run ../libs/dynamic_programming.py"
   ]
  },
  {
   "cell_type": "code",
   "execution_count": 2,
   "metadata": {},
   "outputs": [],
   "source": [
    "# Reload lookup tables, P and R matrices.\n",
    "id_state_lkt = np.load(\"ttt_id2s.dat\", allow_pickle=True)\n",
    "state_id_lkt = np.load(\"ttt_s2id.dat\", allow_pickle=True)\n",
    "P = np.load(\"ttt_P.dat\", allow_pickle=True)\n",
    "R = np.load(\"ttt_R.dat\", allow_pickle=True)\n",
    "# Number of states and actions.\n",
    "S = P.shape[0]\n",
    "A = R.shape[1]\n",
    "# Model discount factor.\n",
    "gamma = 1.0\n",
    "\n",
    "# Initial values for policies.\n",
    "# Note that actions MUST BE FEASIBLE even at the beginning.\n",
    "p_init = np.random.randint(A, size=S)\n",
    "for s in range(S - 3):\n",
    "    info = state_id_lkt[s]\n",
    "    p_init[s] = np.random.choice(get_actions(info[2]))\n",
    "\n",
    "# Initial values for value function.\n",
    "v_init = np.random.normal(size=S)\n",
    "v_init[-3:] = 0.0  # These are terminal states."
   ]
  },
  {
   "source": [
    "## Policy Iteration"
   ],
   "cell_type": "markdown",
   "metadata": {}
  },
  {
   "cell_type": "code",
   "execution_count": 3,
   "metadata": {},
   "outputs": [],
   "source": [
    "p_star_pi, v_star_pi = policy_iteration(P, R, gamma, v_init, p_init)\n",
    "p_star_pi.dump(\"ttt_p_pi.dat\")"
   ]
  },
  {
   "source": [
    "## Value Iteration"
   ],
   "cell_type": "markdown",
   "metadata": {}
  },
  {
   "cell_type": "code",
   "execution_count": 4,
   "metadata": {
    "tags": []
   },
   "outputs": [],
   "source": [
    "p_star_vi, v_star_vi = value_iteration(P, R, gamma, v_init)\n",
    "p_star_vi.dump(\"ttt_p_vi.dat\")"
   ]
  },
  {
   "source": [
    "## Tests and debugging"
   ],
   "cell_type": "markdown",
   "metadata": {}
  },
  {
   "cell_type": "code",
   "execution_count": 5,
   "metadata": {},
   "outputs": [],
   "source": [
    "def rand_action(actions_O):\n",
    "    return np.random.choice(actions_O)\n",
    "\n",
    "def user_action(actions_O):\n",
    "    while True:\n",
    "        a_O = int(input(\"Enter number from 0 to 8: \"))\n",
    "        if a_O in actions_O:\n",
    "            break\n",
    "    return a_O\n",
    "\n",
    "def play():\n",
    "    s = 0\n",
    "    id = state_id_lkt[s, 2]\n",
    "    print_board(id_to_board(id))\n",
    "    while True:\n",
    "        # X's turn\n",
    "        info = id_state_lkt[id]\n",
    "        a_X = map_action(p_star_vi[info[4]], info[2], info[3])[0]\n",
    "        id += 3 ** (8 - a_X)\n",
    "        print_board(id_to_board(id))\n",
    "        if id_state_lkt[id, 0] == 1:\n",
    "            if id_state_lkt[id, 0] == 0:\n",
    "                print(\"DRAW\")\n",
    "            elif id_state_lkt[id, 0] == 1:\n",
    "                print(\"WIN\")\n",
    "            else:\n",
    "                print(\"LOSS, wtf?\")\n",
    "            break\n",
    "        # O's turn\n",
    "        actions_O = get_actions(id)\n",
    "        a_O = user_action(actions_O)\n",
    "        id += 2 * (3 ** (8 - a_O))\n",
    "#play()"
   ]
  }
 ]
}