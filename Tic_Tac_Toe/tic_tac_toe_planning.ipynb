{
 "metadata": {
  "language_info": {
   "codemirror_mode": {
    "name": "ipython",
    "version": 3
   },
   "file_extension": ".py",
   "mimetype": "text/x-python",
   "name": "python",
   "nbconvert_exporter": "python",
   "pygments_lexer": "ipython3",
   "version": "3.8.8"
  },
  "orig_nbformat": 2,
  "kernelspec": {
   "name": "python388jvsc74a57bd0e22452b2947e29b00a483e943a1e42b28017632f5527b70408aa625d50a3b9ab",
   "display_name": "Python 3.8.8 64-bit ('base': conda)"
  },
  "metadata": {
   "interpreter": {
    "hash": "220a9a68d505f4c7a51e008be3a4ccd0bc283392114da512e1670c540685869c"
   }
  }
 },
 "nbformat": 4,
 "nbformat_minor": 2,
 "cells": [
  {
   "source": [
    "# TIC-TAC-TOE Dynamic Programming "
   ],
   "cell_type": "markdown",
   "metadata": {}
  },
  {
   "cell_type": "code",
   "execution_count": 1,
   "metadata": {},
   "outputs": [],
   "source": [
    "import numpy as np\n",
    "import matplotlib.pyplot as plt\n",
    "%matplotlib inline\n",
    "%run tic_tac_toe_aux_funcs.py\n",
    "%run ../libs/dynamic_programming.py"
   ]
  },
  {
   "cell_type": "code",
   "execution_count": 2,
   "metadata": {},
   "outputs": [],
   "source": [
    "# Reload lookup tables, P and R matrices.\n",
    "id_state_lkt = np.load(\"ttt_id2s.dat\", allow_pickle=True)\n",
    "state_id_lkt = np.load(\"ttt_s2id.dat\", allow_pickle=True)\n",
    "P = np.load(\"ttt_P.dat\", allow_pickle=True)\n",
    "R = np.load(\"ttt_R.dat\", allow_pickle=True)\n",
    "# Number of states and actions.\n",
    "S = P.shape[0]\n",
    "A = R.shape[1]\n",
    "# Model discount factor.\n",
    "gamma = 1.0\n",
    "# Seed random generator.\n",
    "np.random.seed(42)\n",
    "# Initial values.\n",
    "p_init = np.random.randint(A, size=S)\n",
    "v_init = np.random.normal(size=S)\n",
    "for s in range(S):\n",
    "    if state_id_lkt[s, 0] == 1:\n",
    "        v_init[s] = 0.0"
   ]
  },
  {
   "source": [
    "## Policy Iteration"
   ],
   "cell_type": "markdown",
   "metadata": {}
  },
  {
   "cell_type": "code",
   "execution_count": 3,
   "metadata": {},
   "outputs": [],
   "source": [
    "# p_star_pi, v_star_pi = policy_iteration(P, R, gamma, v_init, p_init)"
   ]
  },
  {
   "source": [
    "## Value Iteration"
   ],
   "cell_type": "markdown",
   "metadata": {}
  },
  {
   "cell_type": "code",
   "execution_count": 4,
   "metadata": {
    "tags": []
   },
   "outputs": [
    {
     "output_type": "stream",
     "name": "stdout",
     "text": [
      "32.932005982246125 679\n",
      "24.639765520859 692\n",
      "22.528829782396176 689\n",
      "23.34258984842054 690\n",
      "23.70000233915095 689\n",
      "23.771563622319345 689\n",
      "23.777795920360138 689\n",
      "23.777825458979635 690\n",
      "23.781164869372276 690\n",
      "23.785023204325345 690\n",
      "23.785023204325345 690\n",
      "23.785023204325345 690\n",
      "23.785023204325345 690\n",
      "23.785023204325345 690\n",
      "23.785023204325345 690\n",
      "23.785023204325345 690\n",
      "23.785023204325345 690\n",
      "23.785023204325345 690\n",
      "23.785023204325345 690\n",
      "23.785023204325345 690\n",
      "23.785023204325345 690\n",
      "23.785023204325345 690\n",
      "23.785023204325345 690\n",
      "23.785023204325345 690\n",
      "23.785023204325345 690\n",
      "23.785023204325345 690\n",
      "23.785023204325345 690\n",
      "23.785023204325345 690\n",
      "23.785023204325345 690\n",
      "23.785023204325345 690\n",
      "23.785023204325345 690\n",
      "23.785023204325345 690\n",
      "23.785023204325345 691\n",
      "23.78502320432535 690\n",
      "23.785023204325345 690\n",
      "23.785023204325345 690\n",
      "23.785023204325345 690\n",
      "23.785023204325345 690\n",
      "23.785023204325345 690\n",
      "23.785023204325345 690\n",
      "23.785023204325345 690\n",
      "23.785023204325345 690\n",
      "23.785023204325345 690\n",
      "23.785023204325345 690\n",
      "23.785023204325345 690\n",
      "23.785023204325345 690\n",
      "23.785023204325345 690\n",
      "23.785023204325345 690\n",
      "23.785023204325345 690\n",
      "23.785023204325345 690\n",
      "23.785023204325345 690\n",
      "23.785023204325345 690\n",
      "23.785023204325345 690\n",
      "23.785023204325345 690\n",
      "23.785023204325345 690\n",
      "23.785023204325345 690\n",
      "23.785023204325345 690\n",
      "23.785023204325345 690\n",
      "23.785023204325345 690\n",
      "23.785023204325345 690\n",
      "23.785023204325345 690\n",
      "23.785023204325345 690\n",
      "23.785023204325345 690\n",
      "23.785023204325345 690\n",
      "23.785023204325345 691\n",
      "23.78502320432534 690\n",
      "23.78502320432534 690\n",
      "23.785023204325345 690\n",
      "23.785023204325345 690\n",
      "23.785023204325345 690\n",
      "23.78502320432535 690\n",
      "23.785023204325345 690\n",
      "23.785023204325345 690\n",
      "23.78502320432535 690\n",
      "23.785023204325345 690\n",
      "23.785023204325345 690\n",
      "23.78502320432535 690\n",
      "23.785023204325345 690\n",
      "23.785023204325345 690\n",
      "23.78502320432535 690\n",
      "23.785023204325345 690\n",
      "23.785023204325345 690\n",
      "23.78502320432535 690\n",
      "23.785023204325345 690\n",
      "23.785023204325345 690\n",
      "23.78502320432535 690\n",
      "23.78502320432534 690\n",
      "23.785023204325345 690\n",
      "23.78502320432535 690\n",
      "23.785023204325345 690\n",
      "23.785023204325345 690\n",
      "23.78502320432535 690\n",
      "23.785023204325345 690\n",
      "23.785023204325345 690\n",
      "23.78502320432535 690\n",
      "23.785023204325345 690\n",
      "23.785023204325345 690\n",
      "23.78502320432535 690\n",
      "23.785023204325345 690\n",
      "23.785023204325345 690\n",
      "23.78502320432535 690\n",
      "23.785023204325345 690\n",
      "23.785023204325345 690\n",
      "23.785023204325345 690\n",
      "23.785023204325345 690\n",
      "23.785023204325345 690\n",
      "23.785023204325345 690\n",
      "23.785023204325345 690\n",
      "23.785023204325345 690\n",
      "23.785023204325345 690\n",
      "23.785023204325345 690\n"
     ]
    },
    {
     "output_type": "error",
     "ename": "KeyboardInterrupt",
     "evalue": "",
     "traceback": [
      "\u001b[0;31m---------------------------------------------------------------------------\u001b[0m",
      "\u001b[0;31mKeyboardInterrupt\u001b[0m                         Traceback (most recent call last)",
      "\u001b[0;32m<ipython-input-4-e4606708e218>\u001b[0m in \u001b[0;36m<module>\u001b[0;34m\u001b[0m\n\u001b[0;32m----> 1\u001b[0;31m \u001b[0mp_star_vi\u001b[0m\u001b[0;34m,\u001b[0m \u001b[0mv_star_vi\u001b[0m \u001b[0;34m=\u001b[0m \u001b[0mvalue_iteration\u001b[0m\u001b[0;34m(\u001b[0m\u001b[0mP\u001b[0m\u001b[0;34m,\u001b[0m \u001b[0mR\u001b[0m\u001b[0;34m,\u001b[0m \u001b[0mgamma\u001b[0m\u001b[0;34m,\u001b[0m \u001b[0mv_init\u001b[0m\u001b[0;34m)\u001b[0m\u001b[0;34m\u001b[0m\u001b[0;34m\u001b[0m\u001b[0m\n\u001b[0m",
      "\u001b[0;32m~/Documents/GitHub/mrl/libs/dynamic_programming.py\u001b[0m in \u001b[0;36mvalue_iteration\u001b[0;34m(P, R, gamma, v_init, tol)\u001b[0m\n\u001b[1;32m     83\u001b[0m                 \u001b[0mp_trans\u001b[0m \u001b[0;34m=\u001b[0m \u001b[0mP\u001b[0m\u001b[0;34m[\u001b[0m\u001b[0ms\u001b[0m\u001b[0;34m,\u001b[0m \u001b[0;34m:\u001b[0m\u001b[0;34m,\u001b[0m \u001b[0ma\u001b[0m\u001b[0;34m]\u001b[0m\u001b[0;34m\u001b[0m\u001b[0;34m\u001b[0m\u001b[0m\n\u001b[1;32m     84\u001b[0m                 \u001b[0mq\u001b[0m\u001b[0;34m[\u001b[0m\u001b[0ma\u001b[0m\u001b[0;34m]\u001b[0m \u001b[0;34m=\u001b[0m \u001b[0mR\u001b[0m\u001b[0;34m[\u001b[0m\u001b[0ms\u001b[0m\u001b[0;34m,\u001b[0m \u001b[0ma\u001b[0m\u001b[0;34m]\u001b[0m \u001b[0;34m+\u001b[0m \u001b[0mgamma\u001b[0m\u001b[0;34m*\u001b[0m\u001b[0mnp\u001b[0m\u001b[0;34m.\u001b[0m\u001b[0mdot\u001b[0m\u001b[0;34m(\u001b[0m\u001b[0mp_trans\u001b[0m\u001b[0;34m,\u001b[0m \u001b[0mprev_v\u001b[0m\u001b[0;34m)\u001b[0m\u001b[0;34m\u001b[0m\u001b[0;34m\u001b[0m\u001b[0m\n\u001b[0;32m---> 85\u001b[0;31m             \u001b[0mpi\u001b[0m\u001b[0;34m[\u001b[0m\u001b[0ms\u001b[0m\u001b[0;34m]\u001b[0m \u001b[0;34m=\u001b[0m \u001b[0mnp\u001b[0m\u001b[0;34m.\u001b[0m\u001b[0margmax\u001b[0m\u001b[0;34m(\u001b[0m\u001b[0mq\u001b[0m\u001b[0;34m)\u001b[0m\u001b[0;34m\u001b[0m\u001b[0;34m\u001b[0m\u001b[0m\n\u001b[0m\u001b[1;32m     86\u001b[0m             \u001b[0mv\u001b[0m\u001b[0;34m[\u001b[0m\u001b[0ms\u001b[0m\u001b[0;34m]\u001b[0m \u001b[0;34m=\u001b[0m \u001b[0mq\u001b[0m\u001b[0;34m[\u001b[0m\u001b[0mpi\u001b[0m\u001b[0;34m[\u001b[0m\u001b[0ms\u001b[0m\u001b[0;34m]\u001b[0m\u001b[0;34m]\u001b[0m\u001b[0;34m\u001b[0m\u001b[0;34m\u001b[0m\u001b[0m\n\u001b[1;32m     87\u001b[0m         \u001b[0mtemp\u001b[0m \u001b[0;34m=\u001b[0m \u001b[0mv\u001b[0m \u001b[0;34m-\u001b[0m \u001b[0mprev_v\u001b[0m\u001b[0;34m\u001b[0m\u001b[0;34m\u001b[0m\u001b[0m\n",
      "\u001b[0;32m<__array_function__ internals>\u001b[0m in \u001b[0;36margmax\u001b[0;34m(*args, **kwargs)\u001b[0m\n",
      "\u001b[0;32m~/.local/lib/python3.8/site-packages/numpy/core/fromnumeric.py\u001b[0m in \u001b[0;36margmax\u001b[0;34m(a, axis, out)\u001b[0m\n\u001b[1;32m   1191\u001b[0m \u001b[0;34m\u001b[0m\u001b[0m\n\u001b[1;32m   1192\u001b[0m     \"\"\"\n\u001b[0;32m-> 1193\u001b[0;31m     \u001b[0;32mreturn\u001b[0m \u001b[0m_wrapfunc\u001b[0m\u001b[0;34m(\u001b[0m\u001b[0ma\u001b[0m\u001b[0;34m,\u001b[0m \u001b[0;34m'argmax'\u001b[0m\u001b[0;34m,\u001b[0m \u001b[0maxis\u001b[0m\u001b[0;34m=\u001b[0m\u001b[0maxis\u001b[0m\u001b[0;34m,\u001b[0m \u001b[0mout\u001b[0m\u001b[0;34m=\u001b[0m\u001b[0mout\u001b[0m\u001b[0;34m)\u001b[0m\u001b[0;34m\u001b[0m\u001b[0;34m\u001b[0m\u001b[0m\n\u001b[0m\u001b[1;32m   1194\u001b[0m \u001b[0;34m\u001b[0m\u001b[0m\n\u001b[1;32m   1195\u001b[0m \u001b[0;34m\u001b[0m\u001b[0m\n",
      "\u001b[0;32m~/.local/lib/python3.8/site-packages/numpy/core/fromnumeric.py\u001b[0m in \u001b[0;36m_wrapfunc\u001b[0;34m(obj, method, *args, **kwds)\u001b[0m\n\u001b[1;32m     56\u001b[0m \u001b[0;34m\u001b[0m\u001b[0m\n\u001b[1;32m     57\u001b[0m     \u001b[0;32mtry\u001b[0m\u001b[0;34m:\u001b[0m\u001b[0;34m\u001b[0m\u001b[0;34m\u001b[0m\u001b[0m\n\u001b[0;32m---> 58\u001b[0;31m         \u001b[0;32mreturn\u001b[0m \u001b[0mbound\u001b[0m\u001b[0;34m(\u001b[0m\u001b[0;34m*\u001b[0m\u001b[0margs\u001b[0m\u001b[0;34m,\u001b[0m \u001b[0;34m**\u001b[0m\u001b[0mkwds\u001b[0m\u001b[0;34m)\u001b[0m\u001b[0;34m\u001b[0m\u001b[0;34m\u001b[0m\u001b[0m\n\u001b[0m\u001b[1;32m     59\u001b[0m     \u001b[0;32mexcept\u001b[0m \u001b[0mTypeError\u001b[0m\u001b[0;34m:\u001b[0m\u001b[0;34m\u001b[0m\u001b[0;34m\u001b[0m\u001b[0m\n\u001b[1;32m     60\u001b[0m         \u001b[0;31m# A TypeError occurs if the object does have such a method in its\u001b[0m\u001b[0;34m\u001b[0m\u001b[0;34m\u001b[0m\u001b[0;34m\u001b[0m\u001b[0m\n",
      "\u001b[0;31mKeyboardInterrupt\u001b[0m: "
     ]
    }
   ],
   "source": [
    "p_star_vi, v_star_vi = value_iteration(P, R, gamma, v_init)"
   ]
  },
  {
   "cell_type": "code",
   "execution_count": 5,
   "metadata": {},
   "outputs": [
    {
     "output_type": "stream",
     "name": "stdout",
     "text": [
      "[ 0  1  0  0 45]\n   |   |   \n---+---+---\n   | X | O \n---+---+---\n X | O |   \n###########\n"
     ]
    },
    {
     "output_type": "error",
     "ename": "NameError",
     "evalue": "name 'p_star_pi' is not defined",
     "traceback": [
      "\u001b[0;31m---------------------------------------------------------------------------\u001b[0m",
      "\u001b[0;31mNameError\u001b[0m                                 Traceback (most recent call last)",
      "\u001b[0;32m<ipython-input-5-507034cc402c>\u001b[0m in \u001b[0;36m<module>\u001b[0;34m\u001b[0m\n\u001b[1;32m      4\u001b[0m \u001b[0mprint\u001b[0m\u001b[0;34m(\u001b[0m\u001b[0mid_state_lkt\u001b[0m\u001b[0;34m[\u001b[0m\u001b[0mid\u001b[0m\u001b[0;34m]\u001b[0m\u001b[0;34m)\u001b[0m\u001b[0;34m\u001b[0m\u001b[0;34m\u001b[0m\u001b[0m\n\u001b[1;32m      5\u001b[0m \u001b[0mprint_board\u001b[0m\u001b[0;34m(\u001b[0m\u001b[0mboard\u001b[0m\u001b[0;34m)\u001b[0m\u001b[0;34m\u001b[0m\u001b[0;34m\u001b[0m\u001b[0m\n\u001b[0;32m----> 6\u001b[0;31m \u001b[0mnew_id\u001b[0m \u001b[0;34m=\u001b[0m \u001b[0mid\u001b[0m \u001b[0;34m+\u001b[0m \u001b[0;36m3\u001b[0m \u001b[0;34m**\u001b[0m \u001b[0;34m(\u001b[0m\u001b[0;36m8\u001b[0m \u001b[0;34m-\u001b[0m \u001b[0mp_star_pi\u001b[0m\u001b[0;34m[\u001b[0m\u001b[0ms\u001b[0m\u001b[0;34m]\u001b[0m\u001b[0;34m)\u001b[0m\u001b[0;34m\u001b[0m\u001b[0;34m\u001b[0m\u001b[0m\n\u001b[0m\u001b[1;32m      7\u001b[0m \u001b[0mnew_board\u001b[0m \u001b[0;34m=\u001b[0m \u001b[0mid_to_board\u001b[0m\u001b[0;34m(\u001b[0m\u001b[0mnew_id\u001b[0m\u001b[0;34m)\u001b[0m\u001b[0;34m\u001b[0m\u001b[0;34m\u001b[0m\u001b[0m\n\u001b[1;32m      8\u001b[0m \u001b[0mprint_board\u001b[0m\u001b[0;34m(\u001b[0m\u001b[0mnew_board\u001b[0m\u001b[0;34m)\u001b[0m\u001b[0;34m\u001b[0m\u001b[0;34m\u001b[0m\u001b[0m\n",
      "\u001b[0;31mNameError\u001b[0m: name 'p_star_pi' is not defined"
     ]
    }
   ],
   "source": [
    "s = 45\n",
    "id = state_id_lkt[s, 2]\n",
    "board = id_to_board(id)\n",
    "print(id_state_lkt[id])\n",
    "print_board(board)\n",
    "new_id = id + 3 ** (8 - p_star_pi[s])\n",
    "new_board = id_to_board(new_id)\n",
    "print_board(new_board)"
   ]
  },
  {
   "cell_type": "code",
   "execution_count": 6,
   "metadata": {},
   "outputs": [
    {
     "output_type": "stream",
     "name": "stdout",
     "text": [
      "X : 0, flip = 0, rot = 0 -> 0\n X |   |   \n---+---+---\n   |   |   \n---+---+---\n   |   |   \n###########\nO : [1 2 3 4 5 6 7 8] -> 7\n X |   |   \n---+---+---\n   |   |   \n---+---+---\n   | O |   \n###########\nX : 0, flip = 0, rot = 3 -> 2\n X |   | X \n---+---+---\n   |   |   \n---+---+---\n   | O |   \n###########\nO : [1 3 4 5 6 8] -> 1\n X | O | X \n---+---+---\n   |   |   \n---+---+---\n   | O |   \n###########\nX : 2, flip = 0, rot = 1 -> 0\n O | O | X \n---+---+---\n   |   |   \n---+---+---\n   | O |   \n###########\nO : [3 4 5 6 8] -> 4\n O | O | X \n---+---+---\n   | O |   \n---+---+---\n   | O |   \n###########\nX : 0, flip = -1, rot = -1 -> 2\n O | O | O \n---+---+---\n   | O |   \n---+---+---\n   | O |   \n###########\nO : [3 5 6 8] -> 5\n O | O | O \n---+---+---\n   | O | O \n---+---+---\n   | O |   \n###########\nX : 0, flip = -1, rot = -1 -> 2\n"
     ]
    },
    {
     "output_type": "error",
     "ename": "ValueError",
     "evalue": "cannot reshape array of size 10 into shape (3,3)",
     "traceback": [
      "\u001b[0;31m---------------------------------------------------------------------------\u001b[0m",
      "\u001b[0;31mValueError\u001b[0m                                Traceback (most recent call last)",
      "\u001b[0;32m<ipython-input-6-10c64a60609a>\u001b[0m in \u001b[0;36m<module>\u001b[0;34m\u001b[0m\n\u001b[1;32m      5\u001b[0m     \u001b[0mprint\u001b[0m\u001b[0;34m(\u001b[0m\u001b[0;34m\"X : {}, flip = {}, rot = {} -> {}\"\u001b[0m\u001b[0;34m.\u001b[0m\u001b[0mformat\u001b[0m\u001b[0;34m(\u001b[0m\u001b[0mp_star_pi\u001b[0m\u001b[0;34m[\u001b[0m\u001b[0mstate\u001b[0m\u001b[0;34m]\u001b[0m\u001b[0;34m,\u001b[0m \u001b[0mid_state_lkt\u001b[0m\u001b[0;34m[\u001b[0m\u001b[0mid\u001b[0m\u001b[0;34m,\u001b[0m \u001b[0;36m2\u001b[0m\u001b[0;34m]\u001b[0m\u001b[0;34m,\u001b[0m \u001b[0mid_state_lkt\u001b[0m\u001b[0;34m[\u001b[0m\u001b[0mid\u001b[0m\u001b[0;34m,\u001b[0m \u001b[0;36m3\u001b[0m\u001b[0;34m]\u001b[0m\u001b[0;34m,\u001b[0m \u001b[0ma_X\u001b[0m\u001b[0;34m)\u001b[0m\u001b[0;34m)\u001b[0m\u001b[0;34m\u001b[0m\u001b[0;34m\u001b[0m\u001b[0m\n\u001b[1;32m      6\u001b[0m     \u001b[0mid\u001b[0m \u001b[0;34m+=\u001b[0m \u001b[0;36m3\u001b[0m \u001b[0;34m**\u001b[0m \u001b[0;34m(\u001b[0m\u001b[0;36m8\u001b[0m \u001b[0;34m-\u001b[0m \u001b[0ma_X\u001b[0m\u001b[0;34m)\u001b[0m\u001b[0;34m\u001b[0m\u001b[0;34m\u001b[0m\u001b[0m\n\u001b[0;32m----> 7\u001b[0;31m     \u001b[0mprint_board\u001b[0m\u001b[0;34m(\u001b[0m\u001b[0mid_to_board\u001b[0m\u001b[0;34m(\u001b[0m\u001b[0mid\u001b[0m\u001b[0;34m)\u001b[0m\u001b[0;34m)\u001b[0m\u001b[0;34m\u001b[0m\u001b[0;34m\u001b[0m\u001b[0m\n\u001b[0m\u001b[1;32m      8\u001b[0m     \u001b[0mstate\u001b[0m \u001b[0;34m=\u001b[0m \u001b[0mid_state_lkt\u001b[0m\u001b[0;34m[\u001b[0m\u001b[0mid\u001b[0m\u001b[0;34m,\u001b[0m \u001b[0;36m4\u001b[0m\u001b[0;34m]\u001b[0m\u001b[0;34m\u001b[0m\u001b[0;34m\u001b[0m\u001b[0m\n\u001b[1;32m      9\u001b[0m     \u001b[0;32mif\u001b[0m \u001b[0mid_state_lkt\u001b[0m\u001b[0;34m[\u001b[0m\u001b[0mid\u001b[0m\u001b[0;34m,\u001b[0m \u001b[0;36m0\u001b[0m\u001b[0;34m]\u001b[0m \u001b[0;34m==\u001b[0m \u001b[0;36m1\u001b[0m\u001b[0;34m:\u001b[0m\u001b[0;34m\u001b[0m\u001b[0;34m\u001b[0m\u001b[0m\n",
      "\u001b[0;32m~/Documents/GitHub/mrl/Tic_Tac_Toe/tic_tac_toe_aux_funcs.py\u001b[0m in \u001b[0;36mid_to_board\u001b[0;34m(id)\u001b[0m\n\u001b[1;32m     37\u001b[0m     \u001b[0;34m\"\"\"Takes a base-10 board ID and returns a board matrix.\"\"\"\u001b[0m\u001b[0;34m\u001b[0m\u001b[0;34m\u001b[0m\u001b[0m\n\u001b[1;32m     38\u001b[0m     \u001b[0mboard_str\u001b[0m \u001b[0;34m=\u001b[0m \u001b[0mnp\u001b[0m\u001b[0;34m.\u001b[0m\u001b[0mbase_repr\u001b[0m\u001b[0;34m(\u001b[0m\u001b[0mid\u001b[0m\u001b[0;34m,\u001b[0m \u001b[0mbase\u001b[0m\u001b[0;34m=\u001b[0m\u001b[0;36m3\u001b[0m\u001b[0;34m)\u001b[0m\u001b[0;34m.\u001b[0m\u001b[0mzfill\u001b[0m\u001b[0;34m(\u001b[0m\u001b[0;36m9\u001b[0m\u001b[0;34m)\u001b[0m\u001b[0;34m\u001b[0m\u001b[0;34m\u001b[0m\u001b[0m\n\u001b[0;32m---> 39\u001b[0;31m     \u001b[0;32mreturn\u001b[0m \u001b[0mnp\u001b[0m\u001b[0;34m.\u001b[0m\u001b[0marray\u001b[0m\u001b[0;34m(\u001b[0m\u001b[0mlist\u001b[0m\u001b[0;34m(\u001b[0m\u001b[0mboard_str\u001b[0m\u001b[0;34m)\u001b[0m\u001b[0;34m,\u001b[0m \u001b[0mdtype\u001b[0m\u001b[0;34m=\u001b[0m\u001b[0mnp\u001b[0m\u001b[0;34m.\u001b[0m\u001b[0mint8\u001b[0m\u001b[0;34m)\u001b[0m\u001b[0;34m.\u001b[0m\u001b[0mreshape\u001b[0m\u001b[0;34m(\u001b[0m\u001b[0;36m3\u001b[0m\u001b[0;34m,\u001b[0m \u001b[0;36m3\u001b[0m\u001b[0;34m)\u001b[0m\u001b[0;34m\u001b[0m\u001b[0;34m\u001b[0m\u001b[0m\n\u001b[0m\u001b[1;32m     40\u001b[0m \u001b[0;34m\u001b[0m\u001b[0m\n\u001b[1;32m     41\u001b[0m \u001b[0;32mdef\u001b[0m \u001b[0mfind_win\u001b[0m\u001b[0;34m(\u001b[0m\u001b[0mboard\u001b[0m\u001b[0;34m,\u001b[0m \u001b[0mmarker\u001b[0m\u001b[0;34m)\u001b[0m\u001b[0;34m:\u001b[0m\u001b[0;34m\u001b[0m\u001b[0;34m\u001b[0m\u001b[0m\n",
      "\u001b[0;31mValueError\u001b[0m: cannot reshape array of size 10 into shape (3,3)"
     ]
    }
   ],
   "source": [
    "id = 0\n",
    "state = 0\n",
    "while True:\n",
    "    a_X = map_action(p_star_pi[state], id_state_lkt[id, 2], id_state_lkt[id, 3])[0]\n",
    "    print(\"X : {}, flip = {}, rot = {} -> {}\".format(p_star_pi[state], id_state_lkt[id, 2], id_state_lkt[id, 3], a_X))\n",
    "    id += 3 ** (8 - a_X)\n",
    "    print_board(id_to_board(id))\n",
    "    state = id_state_lkt[id, 4]\n",
    "    if id_state_lkt[id, 0] == 1:\n",
    "        break\n",
    "    a_O = np.random.choice(get_actions(id))\n",
    "    print(\"O : {} -> {}\".format(get_actions(id), a_O))\n",
    "    id += 2 * (3 ** (8 - a_O))\n",
    "    print_board(id_to_board(id))\n",
    "    state = id_state_lkt[id, 4]\n",
    "    if id_state_lkt[id, 0] == 1:\n",
    "        break"
   ]
  },
  {
   "cell_type": "code",
   "execution_count": 5,
   "metadata": {},
   "outputs": [
    {
     "output_type": "stream",
     "name": "stdout",
     "text": [
      "   |   |   \n---+---+---\n   |   | X \n---+---+---\n O | O | X \n###########\n"
     ]
    }
   ],
   "source": [
    "state = 18\n",
    "id = state_id_lkt[state, 2]\n",
    "print_board(id_to_board(id))"
   ]
  },
  {
   "cell_type": "code",
   "execution_count": null,
   "metadata": {},
   "outputs": [],
   "source": []
  }
 ]
}