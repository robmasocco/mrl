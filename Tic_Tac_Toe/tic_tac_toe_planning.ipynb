{
 "metadata": {
  "language_info": {
   "codemirror_mode": {
    "name": "ipython",
    "version": 3
   },
   "file_extension": ".py",
   "mimetype": "text/x-python",
   "name": "python",
   "nbconvert_exporter": "python",
   "pygments_lexer": "ipython3",
   "version": "3.7.9-final"
  },
  "orig_nbformat": 2,
  "kernelspec": {
   "name": "python3",
   "display_name": "Python 3.7.9 64-bit ('MachineLearning': conda)",
   "metadata": {
    "interpreter": {
     "hash": "d8a195330d7b39ab8358992b1258f0c44024a399da233a32fe08e0c9d3e1ad0d"
    }
   }
  },
  "metadata": {
   "interpreter": {
    "hash": "220a9a68d505f4c7a51e008be3a4ccd0bc283392114da512e1670c540685869c"
   }
  }
 },
 "nbformat": 4,
 "nbformat_minor": 2,
 "cells": [
  {
   "source": [
    "# TIC-TAC-TOE Dynamic Programming "
   ],
   "cell_type": "markdown",
   "metadata": {}
  },
  {
   "cell_type": "code",
   "execution_count": null,
   "metadata": {},
   "outputs": [],
   "source": [
    "import numpy as np\n",
    "import matplotlib.pyplot as plt\n",
    "%matplotlib inline\n",
    "%run tic_tac_toe_aux_funcs.py\n",
    "%run ../libs/dynamic_programming.py"
   ]
  },
  {
   "cell_type": "code",
   "execution_count": null,
   "metadata": {},
   "outputs": [],
   "source": [
    "# Reload lookup tables, P and R matrices.\n",
    "id_state_lkt = np.load(\"ttt_id2s.dat\", allow_pickle=True)\n",
    "state_id_lkt = np.load(\"ttt_s2id.dat\", allow_pickle=True)\n",
    "P = np.load(\"ttt_P.dat\", allow_pickle=True)\n",
    "R = np.load(\"ttt_R.dat\", allow_pickle=True)\n",
    "# Number of states and actions.\n",
    "S = P.shape[0]\n",
    "A = R.shape[1]\n",
    "# Model discount factor.\n",
    "gamma = 0.999\n",
    "# Seed random generator.\n",
    "np.random.seed(42)\n",
    "# Initial values.\n",
    "p_init = np.random.randint(A, size=S)\n",
    "v_init = np.random.normal(size=S)\n",
    "#v_init = np.zeros(S, dtype=np.float128)\n",
    "v_init[-3:] = 0.0"
   ]
  },
  {
   "source": [
    "## Policy Iteration"
   ],
   "cell_type": "markdown",
   "metadata": {}
  },
  {
   "cell_type": "code",
   "execution_count": null,
   "metadata": {},
   "outputs": [],
   "source": [
    "#p_star_pi, v_star_pi = policy_iteration(P, R, gamma, v_init, p_init)"
   ]
  },
  {
   "source": [
    "## Value Iteration"
   ],
   "cell_type": "markdown",
   "metadata": {}
  },
  {
   "cell_type": "code",
   "execution_count": null,
   "metadata": {
    "tags": [
     "outputPrepend"
    ]
   },
   "outputs": [],
   "source": [
    "p_star_vi, v_star_vi = value_iteration(P, R, gamma, v_init)"
   ]
  },
  {
   "cell_type": "code",
   "execution_count": null,
   "metadata": {},
   "outputs": [],
   "source": [
    "s = 55\n",
    "id = state_id_lkt[s, 2]\n",
    "print(get_actions(id))\n",
    "board = id_to_board(id)\n",
    "print_board(board)\n",
    "print(p_star_vi[s])\n",
    "new_id = id + 3 ** (8 - p_star_vi[s])\n",
    "new_board = id_to_board(new_id)\n",
    "print_board(new_board)"
   ]
  },
  {
   "cell_type": "code",
   "execution_count": null,
   "metadata": {},
   "outputs": [],
   "source": []
  }
 ]
}