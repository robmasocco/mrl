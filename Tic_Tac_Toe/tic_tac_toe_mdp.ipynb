{
 "metadata": {
  "language_info": {
   "codemirror_mode": {
    "name": "ipython",
    "version": 3
   },
   "file_extension": ".py",
   "mimetype": "text/x-python",
   "name": "python",
   "nbconvert_exporter": "python",
   "pygments_lexer": "ipython3",
   "version": "3.8.5-final"
  },
  "orig_nbformat": 2,
  "kernelspec": {
   "name": "python385jvsc74a57bd0220a9a68d505f4c7a51e008be3a4ccd0bc283392114da512e1670c540685869c",
   "display_name": "Python 3.8.5 64-bit ('anaconda3': virtualenv)"
  },
  "metadata": {
   "interpreter": {
    "hash": "220a9a68d505f4c7a51e008be3a4ccd0bc283392114da512e1670c540685869c"
   }
  }
 },
 "nbformat": 4,
 "nbformat_minor": 2,
 "cells": [
  {
   "source": [
    "# TIC-TAC-TOE Markov Decision Process"
   ],
   "cell_type": "markdown",
   "metadata": {}
  },
  {
   "cell_type": "code",
   "execution_count": 1,
   "metadata": {},
   "outputs": [],
   "source": [
    "import numpy as np"
   ]
  },
  {
   "source": [
    "## Auxiliary functions to build the model"
   ],
   "cell_type": "markdown",
   "metadata": {}
  },
  {
   "cell_type": "code",
   "execution_count": 2,
   "metadata": {},
   "outputs": [],
   "source": [
    "def board_to_id(B):\n",
    "    \"\"\"Takes a board matrix and returns a base-10 board ID.\"\"\"\n",
    "    symbols = B.flatten()\n",
    "    id = 0\n",
    "    for i in range(9):\n",
    "        id += int(symbols[i] * (3 ** (8 - i)))\n",
    "    return id\n",
    "\n",
    "def board_to_ids(B):\n",
    "    \"\"\"Takes a board matrix and returns a list with the base-10 board ID of all its rotations.\"\"\"\n",
    "    # Compute rotations fo B\n",
    "    # for each rotation use board_to_id\n",
    "    # return list og ids\n",
    "\n",
    "def id_to_board(id):\n",
    "    \"\"\"Takes a base-10 board ID and returns a board matrix.\"\"\"\n",
    "    board_str = np.base_repr(id, base=3).zfill(9)\n",
    "    return np.array(list(board_str), dtype=np.int8).reshape(3, 3)\n",
    "\n",
    "def is_winner(B, marker):\n",
    "    \"\"\"Takes a board matrix and checks if there are 3 equal markers in a row horizontal, vertical or diagonal.\"\"\"\n",
    "    # for each row in B: row == marker\n",
    "    # for each col in B: col == marker\n",
    "    # diag = np.diagonal(B) -> diag == marker\n",
    "    # anti_diag = np.fliplr(arr).diagonal(B) -> anti_diag == marker\n",
    "\n",
    "def board_info(B):\n",
    "    \"\"\"Takes a board matrix and return its information: terminal, valid or invalid board and the winner or the next player.\n",
    "    \"\"\"\n",
    "    # xs = np.count_nonzero(B == 1)\n",
    "    # os = np.count_nonzero(B == 2)\n",
    "    # diff = xs - os\n",
    "    # switch diff\n",
    "    # 1 ->\n",
    "    # 0 ->\n",
    "    # default: not valid"
   ]
  }
 ]
}