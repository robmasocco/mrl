{
 "metadata": {
  "language_info": {
   "codemirror_mode": {
    "name": "ipython",
    "version": 3
   },
   "file_extension": ".py",
   "mimetype": "text/x-python",
   "name": "python",
   "nbconvert_exporter": "python",
   "pygments_lexer": "ipython3",
   "version": "3.8.5"
  },
  "orig_nbformat": 2,
  "kernelspec": {
   "name": "python385jvsc74a57bd0d45e406d0e0708198588c4cd422e9b9b922df52c309efe81ad56c437167c4d05",
   "display_name": "Python 3.8.5 64-bit ('base': conda)"
  },
  "metadata": {
   "interpreter": {
    "hash": "220a9a68d505f4c7a51e008be3a4ccd0bc283392114da512e1670c540685869c"
   }
  }
 },
 "nbformat": 4,
 "nbformat_minor": 2,
 "cells": [
  {
   "source": [
    "# TIC-TAC-TOE Markov Decision Process"
   ],
   "cell_type": "markdown",
   "metadata": {}
  },
  {
   "cell_type": "code",
   "execution_count": 1,
   "metadata": {},
   "outputs": [],
   "source": [
    "import numpy as np"
   ]
  },
  {
   "source": [
    "## Auxiliary functions to build the model"
   ],
   "cell_type": "markdown",
   "metadata": {}
  },
  {
   "cell_type": "code",
   "execution_count": 2,
   "metadata": {},
   "outputs": [],
   "source": [
    "def board_to_id(B):\n",
    "    \"\"\"Takes a board matrix and returns a base-10 board ID.\"\"\"\n",
    "    symbols = B.flatten()\n",
    "    id = 0\n",
    "    for i in range(9):\n",
    "        id += int(symbols[i] * (3 ** (8 - i)))\n",
    "    return id\n",
    "\n",
    "def board_to_ids(B):\n",
    "    \"\"\"Takes a board matrix and returns a list with the base-10 board ID of all its rotations.\"\"\"\n",
    "    ids = np.full(4, 0)\n",
    "    for i in range(4):\n",
    "        ids[i] = board_to_id(np.rot90(B, i))\n",
    "    return np.sort(ids)\n",
    "\n",
    "def id_to_board(id):\n",
    "    \"\"\"Takes a base-10 board ID and returns a board matrix.\"\"\"\n",
    "    board_str = np.base_repr(id, base=3).zfill(9)\n",
    "    return np.array(list(board_str), dtype=np.int8).reshape(3, 3)\n",
    "\n",
    "def find_wins(B):\n",
    "    \"\"\"Takes a board matrix and checks if there are 3 equal markers in a row horizontal, vertical or diagonal and the its number.\"\"\"\n",
    "    x_wins = 0\n",
    "    o_wins = 0\n",
    "    # \n",
    "    for row in B:\n",
    "        if np.all(row == 1):\n",
    "            x_wins += 1\n",
    "        if np.all(row == 2):\n",
    "            o_wins += 1\n",
    "    # \n",
    "    for col in B.T:\n",
    "        if np.all(col == 1):\n",
    "            x_wins += 1\n",
    "        if np.all(col == 2):\n",
    "            o_wins += 1\n",
    "    #\n",
    "    diag = np.diagonal(B)\n",
    "    if np.all(diag == 1):\n",
    "        x_wins += 1\n",
    "    if np.all(diag == 2):\n",
    "        o_wins += 1\n",
    "    #\n",
    "    flip_B = np.fliplr(B)\n",
    "    anti_diag = np.diagonal(flip_B)\n",
    "    if np.all(anti_diag == 1):\n",
    "        x_wins += 1\n",
    "    if np.all(anti_diag == 2):\n",
    "        o_wins += 1\n",
    "    return x_wins, o_wins\n",
    "\n",
    "def board_info(B):\n",
    "    \"\"\"Takes a board matrix and return its information: terminal, valid or invalid board and the winner or the next player.\"\"\"\n",
    "    xs = np.count_nonzero(B == 1)\n",
    "    os = np.count_nonzero(B == 2)\n",
    "    diff = xs - os\n",
    "    if diff == 1:\n",
    "        # Last player to move was X.\n",
    "        x_wins, o_wins = find_wins(B)\n",
    "        if o_wins > 0:\n",
    "            return -1, -1\n",
    "        if x_wins > 1:\n",
    "            return -1, -1\n",
    "        elif x_wins == 1:\n",
    "            return 1, 1\n",
    "        else:\n",
    "            if xs + os == 9:\n",
    "                return 1, 0\n",
    "            else:\n",
    "                return 0, 2\n",
    "    elif diff == 0:\n",
    "        # Last player to move was O.\n",
    "        x_wins, o_wins = find_wins(B)\n",
    "        if x_wins > 0:\n",
    "            return -1, -1\n",
    "        if o_wins > 0:\n",
    "            return 1, 2\n",
    "        else:\n",
    "            return 0, 1\n",
    "    else:\n",
    "        return -1, -1\n",
    "\n",
    "def populate_lk_tables():\n",
    "    # Number of boards to checks.\n",
    "    IDs = 3 ** 9\n",
    "    # Create the lookup tables.\n",
    "    id_state_lkt = np.zeros((IDs, 3), dtype=np.int32)\n",
    "    state_id_lkt = np.array([[0, 0, 0]], dtype=np.int32)\n",
    "    # Loop for each board.\n",
    "    state = 0\n",
    "    for id in range(IDs):\n",
    "        # Convert id to board.\n",
    "        B = id_to_board(id)\n",
    "        # Compute board rotations.\n",
    "        ids = board_to_ids(B)\n",
    "        if ids[0] < id:\n",
    "            continue\n",
    "        # Get board info.\n",
    "        info = board_info(B)\n",
    "        # Check if the board is valid.\n",
    "        if info[0] == -1:\n",
    "            # Populate id to state lookup table.\n",
    "            for id in ids:\n",
    "                id_state_lkt[id] = [-1, -1, -1]\n",
    "        else:\n",
    "            # Populate id to state lookup table.\n",
    "            for id in ids:\n",
    "                id_state_lkt[id] = [info[0], info[1], state]\n",
    "            # Populate state to id lookup table.\n",
    "            state_id_lkt = np.append(state_id_lkt, [[info[0], info[1], ids[0]]], axis=0)\n",
    "            # Increase state counter.\n",
    "            state += 1\n",
    "            \n",
    "    # Remove first dummy row.\n",
    "    state_id_lkt = np.delete(state_id_lkt, 0, axis=0)\n",
    "    return id_state_lkt, state_id_lkt[1:, :]\n"
   ]
  },
  {
   "cell_type": "code",
   "execution_count": 3,
   "metadata": {},
   "outputs": [
    {
     "output_type": "stream",
     "name": "stdout",
     "text": [
      "[[1 2 1]\n [1 1 2]\n [2 1 2]]\n"
     ]
    },
    {
     "output_type": "execute_result",
     "data": {
      "text/plain": [
       "(1, 0)"
      ]
     },
     "metadata": {},
     "execution_count": 3
    }
   ],
   "source": [
    "B = np.array([[1, 2, 1],[1, 1, 2],[2, 1, 2]])\n",
    "print(B)\n",
    "board_info(B)"
   ]
  },
  {
   "cell_type": "code",
   "execution_count": 4,
   "metadata": {},
   "outputs": [],
   "source": [
    "id_state_lkt, state_id_lkt = populate_lk_tables()"
   ]
  },
  {
   "cell_type": "code",
   "execution_count": 14,
   "metadata": {},
   "outputs": [
    {
     "output_type": "stream",
     "name": "stdout",
     "text": [
      "[[0 0 0]\n [0 2 2]\n [1 1 1]]\n[[0 0 0]\n [1 1 1]\n [0 2 2]]\n[[0 0 0]\n [1 1 1]\n [2 0 2]]\n[[0 0 0]\n [1 1 1]\n [2 2 0]]\n[[0 0 0]\n [2 0 2]\n [1 1 1]]\n[[0 0 0]\n [2 2 0]\n [1 1 1]]\n[[0 0 1]\n [0 0 1]\n [2 2 1]]\n[[0 0 1]\n [0 1 0]\n [1 2 2]]\n[[0 0 1]\n [0 1 1]\n [2 2 2]]\n[[0 0 1]\n [0 1 2]\n [1 0 2]]\n[[0 0 1]\n [0 1 2]\n [1 2 0]]\n[[0 0 1]\n [0 2 1]\n [2 0 1]]\n[[0 0 1]\n [1 0 1]\n [2 2 2]]\n[[0 0 1]\n [1 1 0]\n [2 2 2]]\n[[0 0 1]\n [1 1 2]\n [1 2 2]]\n[[0 0 1]\n [1 2 1]\n [2 2 1]]\n[[0 0 1]\n [2 0 1]\n [0 2 1]]\n[[0 0 1]\n [2 0 1]\n [2 0 1]]\n[[0 0 1]\n [2 1 0]\n [1 0 2]]\n[[0 0 1]\n [2 1 0]\n [1 2 0]]\n[[0 0 1]\n [2 1 1]\n [1 2 2]]\n[[0 0 1]\n [2 1 1]\n [2 2 1]]\n[[0 0 1]\n [2 1 2]\n [1 0 0]]\n[[0 0 1]\n [2 1 2]\n [1 1 2]]\n[[0 0 1]\n [2 1 2]\n [1 2 1]]\n[[0 0 1]\n [2 2 1]\n [0 0 1]]\n[[0 0 1]\n [2 2 1]\n [1 2 1]]\n[[0 0 1]\n [2 2 1]\n [2 1 1]]\n[[0 0 1]\n [2 2 2]\n [0 1 1]]\n[[0 0 1]\n [2 2 2]\n [1 0 1]]\n[[0 0 1]\n [2 2 2]\n [1 1 0]]\n[[0 0 2]\n [0 0 2]\n [1 1 1]]\n[[0 0 2]\n [0 1 2]\n [1 1 2]]\n[[0 0 2]\n [0 2 0]\n [1 1 1]]\n[[0 0 2]\n [0 2 1]\n [2 1 1]]\n[[0 0 2]\n [1 0 2]\n [1 1 2]]\n[[0 0 2]\n [1 1 1]\n [0 0 2]]\n[[0 0 2]\n [1 1 1]\n [0 2 0]]\n[[0 0 2]\n [1 1 1]\n [1 2 2]]\n[[0 0 2]\n [1 1 1]\n [2 0 0]]\n[[0 0 2]\n [1 1 1]\n [2 1 2]]\n[[0 0 2]\n [1 1 1]\n [2 2 1]]\n[[0 0 2]\n [1 1 2]\n [0 1 2]]\n[[0 0 2]\n [1 1 2]\n [1 0 2]]\n[[0 0 2]\n [1 2 0]\n [2 1 1]]\n[[0 0 2]\n [1 2 1]\n [2 0 1]]\n[[0 0 2]\n [1 2 1]\n [2 1 0]]\n[[0 0 2]\n [1 2 2]\n [1 1 1]]\n[[0 0 2]\n [2 0 0]\n [1 1 1]]\n[[0 0 2]\n [2 1 2]\n [1 1 1]]\n[[0 0 2]\n [2 2 1]\n [1 1 1]]\n[[0 1 0]\n [0 1 1]\n [2 2 2]]\n[[0 1 0]\n [0 1 2]\n [2 1 0]]\n[[0 1 0]\n [1 0 1]\n [2 2 2]]\n[[0 1 0]\n [1 1 2]\n [2 1 2]]\n[[0 1 0]\n [2 1 1]\n [2 1 2]]\n[[0 1 0]\n [2 1 2]\n [0 1 0]]\n[[0 1 0]\n [2 1 2]\n [1 1 2]]\n[[0 1 0]\n [2 1 2]\n [2 1 1]]\n[[0 1 0]\n [2 2 2]\n [0 1 1]]\n[[0 1 0]\n [2 2 2]\n [1 0 1]]\n[[0 1 0]\n [2 2 2]\n [1 1 0]]\n[[0 1 1]\n [0 0 1]\n [2 2 2]]\n[[0 1 1]\n [0 1 0]\n [2 2 2]]\n[[0 1 1]\n [0 1 2]\n [1 2 2]]\n[[0 1 1]\n [0 1 2]\n [2 1 2]]\n[[0 1 1]\n [0 2 1]\n [2 2 1]]\n[[0 1 1]\n [1 0 0]\n [2 2 2]]\n[[0 1 1]\n [1 1 2]\n [2 2 2]]\n[[0 1 1]\n [1 2 1]\n [2 2 2]]\n[[0 1 1]\n [2 0 1]\n [2 2 1]]\n[[0 1 1]\n [2 1 0]\n [1 2 2]]\n[[0 1 1]\n [2 1 0]\n [2 1 2]]\n[[0 1 1]\n [2 1 1]\n [2 2 2]]\n[[0 1 1]\n [2 1 2]\n [0 1 2]]\n[[0 1 1]\n [2 1 2]\n [1 0 2]]\n[[0 1 1]\n [2 1 2]\n [1 2 0]]\n[[0 1 1]\n [2 1 2]\n [2 1 0]]\n[[0 1 1]\n [2 2 1]\n [0 2 1]]\n[[0 1 1]\n [2 2 1]\n [2 0 1]]\n[[0 1 1]\n [2 2 2]\n [0 0 1]]\n[[0 1 1]\n [2 2 2]\n [1 1 2]]\n[[0 1 1]\n [2 2 2]\n [1 2 1]]\n[[0 1 1]\n [2 2 2]\n [2 1 1]]\n[[0 1 2]\n [0 0 2]\n [1 1 2]]\n[[0 1 2]\n [0 1 0]\n [2 1 0]]\n[[0 1 2]\n [0 1 1]\n [2 1 2]]\n[[0 1 2]\n [0 1 2]\n [1 0 2]]\n[[0 1 2]\n [0 1 2]\n [2 1 1]]\n[[0 1 2]\n [0 2 0]\n [2 1 1]]\n[[0 1 2]\n [0 2 1]\n [2 0 1]]\n[[0 1 2]\n [0 2 1]\n [2 1 0]]\n[[0 1 2]\n [0 2 2]\n [1 1 1]]\n[[0 1 2]\n [1 0 2]\n [1 0 2]]\n[[0 1 2]\n [1 1 0]\n [2 1 2]]\n[[0 1 2]\n [1 1 1]\n [2 0 2]]\n[[0 1 2]\n [1 1 1]\n [2 2 0]]\n[[0 1 2]\n [1 1 2]\n [1 2 2]]\n[[0 1 2]\n [1 1 2]\n [2 1 0]]\n[[0 1 2]\n [1 2 0]\n [2 0 1]]\n[[0 1 2]\n [1 2 1]\n [2 1 2]]\n[[0 1 2]\n [1 2 1]\n [2 2 1]]\n[[0 1 2]\n [1 2 2]\n [1 1 2]]\n[[0 1 2]\n [1 2 2]\n [2 1 1]]\n[[0 1 2]\n [2 0 2]\n [1 1 1]]\n[[0 1 2]\n [2 1 0]\n [1 1 2]]\n[[0 1 2]\n [2 1 0]\n [2 1 1]]\n[[0 1 2]\n [2 1 1]\n [0 1 2]]\n[[0 1 2]\n [2 1 2]\n [0 1 1]]\n[[0 1 2]\n [2 2 0]\n [1 1 1]]\n[[0 1 2]\n [2 2 1]\n [2 1 1]]\n[[0 2 0]\n [0 0 2]\n [1 1 1]]\n[[0 2 0]\n [1 2 2]\n [1 1 1]]\n[[0 2 0]\n [2 1 2]\n [1 1 1]]\n[[0 2 1]\n [0 0 1]\n [2 0 1]]\n[[0 2 1]\n [0 1 0]\n [1 0 2]]\n[[0 2 1]\n [0 1 0]\n [1 2 0]]\n[[0 2 1]\n [0 1 1]\n [1 2 2]]\n[[0 2 1]\n [0 1 1]\n [2 2 1]]\n[[0 2 1]\n [0 1 2]\n [1 1 2]]\n[[0 2 1]\n [0 1 2]\n [1 2 1]]\n[[0 2 1]\n [0 2 0]\n [1 2 1]]\n[[0 2 1]\n [0 2 1]\n [1 2 0]]\n[[0 2 1]\n [0 2 1]\n [2 1 1]]\n[[0 2 1]\n [0 2 2]\n [1 1 1]]\n[[0 2 1]\n [1 0 1]\n [2 2 1]]\n[[0 2 1]\n [1 1 0]\n [1 2 2]]\n[[0 2 1]\n [1 1 1]\n [2 0 2]]\n[[0 2 1]\n [1 1 1]\n [2 2 0]]\n[[0 2 1]\n [1 1 2]\n [1 0 2]]\n[[0 2 1]\n [1 1 2]\n [1 2 0]]\n[[0 2 1]\n [1 2 1]\n [1 2 2]]\n[[0 2 1]\n [1 2 1]\n [2 0 1]]\n[[0 2 1]\n [1 2 2]\n [1 2 1]]\n[[0 2 1]\n [2 0 1]\n [1 2 1]]\n[[0 2 1]\n [2 0 1]\n [2 1 1]]\n[[0 2 1]\n [2 0 2]\n [1 1 1]]\n[[0 2 1]\n [2 1 0]\n [1 1 2]]\n[[0 2 1]\n [2 1 0]\n [1 2 1]]\n[[0 2 1]\n [2 1 1]\n [1 0 2]]\n[[0 2 1]\n [2 1 1]\n [2 0 1]]\n[[0 2 1]\n [2 1 2]\n [1 0 1]]\n[[0 2 1]\n [2 2 0]\n [1 1 1]]\n[[0 2 1]\n [2 2 1]\n [1 0 1]]\n[[0 2 2]\n [0 0 0]\n [1 1 1]]\n[[0 2 2]\n [0 1 2]\n [1 1 1]]\n[[0 2 2]\n [0 2 1]\n [1 1 1]]\n[[0 2 2]\n [1 0 2]\n [1 1 1]]\n[[0 2 2]\n [1 1 1]\n [1 0 2]]\n[[0 2 2]\n [1 1 1]\n [2 0 1]]\n[[0 2 2]\n [1 1 2]\n [1 1 2]]\n[[0 2 2]\n [1 2 0]\n [1 1 1]]\n[[0 2 2]\n [1 2 1]\n [1 2 1]]\n[[0 2 2]\n [1 2 1]\n [2 1 1]]\n[[0 2 2]\n [2 0 1]\n [1 1 1]]\n[[0 2 2]\n [2 1 0]\n [1 1 1]]\n[[1 0 1]\n [0 0 1]\n [2 2 2]]\n[[1 0 1]\n [0 1 0]\n [2 2 2]]\n[[1 0 1]\n [0 1 2]\n [1 2 2]]\n[[1 0 1]\n [0 1 2]\n [2 2 1]]\n[[1 0 1]\n [0 2 1]\n [2 2 1]]\n[[1 0 1]\n [1 0 0]\n [2 2 2]]\n[[1 0 1]\n [1 0 2]\n [1 2 2]]\n[[1 0 1]\n [1 1 2]\n [2 2 2]]\n[[1 0 1]\n [1 2 0]\n [1 2 2]]\n[[1 0 1]\n [1 2 1]\n [2 2 2]]\n[[1 0 1]\n [1 2 2]\n [1 0 2]]\n[[1 0 1]\n [2 0 1]\n [2 2 1]]\n[[1 0 1]\n [2 1 0]\n [1 2 2]]\n[[1 0 1]\n [2 1 1]\n [2 2 2]]\n[[1 0 1]\n [2 1 2]\n [1 0 2]]\n[[1 0 1]\n [2 1 2]\n [2 0 1]]\n[[1 0 1]\n [2 2 1]\n [2 0 1]]\n[[1 0 1]\n [2 2 2]\n [1 1 2]]\n[[1 0 1]\n [2 2 2]\n [1 2 1]]\n[[1 0 1]\n [2 2 2]\n [2 1 1]]\n[[1 0 2]\n [0 1 0]\n [2 0 1]]\n[[1 0 2]\n [0 1 1]\n [2 2 1]]\n[[1 0 2]\n [0 1 2]\n [2 1 1]]\n[[1 0 2]\n [0 2 0]\n [2 1 1]]\n[[1 0 2]\n [0 2 1]\n [2 0 1]]\n[[1 0 2]\n [1 0 0]\n [1 0 2]]\n[[1 0 2]\n [1 0 1]\n [1 2 2]]\n[[1 0 2]\n [1 0 2]\n [1 2 1]]\n[[1 0 2]\n [1 1 0]\n [1 2 2]]\n[[1 0 2]\n [1 1 0]\n [2 2 1]]\n[[1 0 2]\n [1 1 1]\n [2 0 2]]\n[[1 0 2]\n [1 1 2]\n [2 0 1]]\n[[1 0 2]\n [1 1 2]\n [2 1 2]]\n[[1 0 2]\n [1 2 0]\n [1 1 2]]\n[[1 0 2]\n [1 2 0]\n [1 2 1]]\n[[1 0 2]\n [1 2 1]\n [1 0 2]]\n[[1 0 2]\n [1 2 1]\n [2 1 2]]\n[[1 0 2]\n [1 2 1]\n [2 2 1]]\n[[1 0 2]\n [1 2 2]\n [2 1 1]]\n[[1 0 2]\n [2 0 2]\n [1 1 1]]\n[[1 0 2]\n [2 1 0]\n [1 2 1]]\n[[1 0 2]\n [2 1 0]\n [2 1 1]]\n[[1 0 2]\n [2 1 2]\n [1 1 2]]\n[[1 0 2]\n [2 2 0]\n [1 1 1]]\n[[1 0 2]\n [2 2 1]\n [2 1 1]]\n[[1 1 1]\n [0 0 2]\n [2 1 2]]\n[[1 1 1]\n [0 0 2]\n [2 2 1]]\n[[1 1 1]\n [0 1 2]\n [2 0 2]]\n[[1 1 1]\n [0 2 1]\n [2 0 2]]\n[[1 1 1]\n [1 0 2]\n [2 0 2]]\n[[1 1 1]\n [1 2 2]\n [2 1 2]]\n[[1 1 1]\n [1 2 2]\n [2 2 1]]\n[[1 1 1]\n [2 0 1]\n [2 0 2]]\n[[1 1 1]\n [2 0 2]\n [1 0 2]]\n[[1 1 1]\n [2 2 1]\n [1 2 2]]\n[[1 1 1]\n [2 2 1]\n [2 1 2]]\n[[1 1 2]\n [0 1 0]\n [2 1 2]]\n[[1 1 2]\n [0 1 0]\n [2 2 1]]\n[[1 1 2]\n [0 1 1]\n [2 2 2]]\n[[1 1 2]\n [0 2 1]\n [2 1 2]]\n[[1 1 2]\n [0 2 1]\n [2 2 1]]\n[[1 1 2]\n [0 2 2]\n [2 1 1]]\n[[1 1 2]\n [1 0 1]\n [2 2 2]]\n[[1 1 2]\n [1 0 2]\n [2 1 2]]\n[[1 1 2]\n [1 1 0]\n [2 2 2]]\n[[1 1 2]\n [1 1 2]\n [2 0 2]]\n[[1 1 2]\n [1 1 2]\n [2 2 1]]\n[[1 1 2]\n [1 2 0]\n [2 1 2]]\n[[1 1 2]\n [1 2 0]\n [2 2 1]]\n[[1 1 2]\n [1 2 1]\n [2 0 2]]\n[[1 1 2]\n [2 0 2]\n [1 1 2]]\n[[1 1 2]\n [2 1 1]\n [1 2 2]]\n[[1 1 2]\n [2 1 1]\n [2 1 2]]\n[[1 1 2]\n [2 1 1]\n [2 2 1]]\n[[1 1 2]\n [2 1 2]\n [1 0 2]]\n[[1 1 2]\n [2 1 2]\n [1 2 1]]\n[[1 1 2]\n [2 2 1]\n [1 1 2]]\n[[1 1 2]\n [2 2 1]\n [1 2 1]]\n[[1 2 1]\n [1 1 2]\n [2 1 2]]\n[[1 2 1]\n [1 1 2]\n [2 2 1]]\n[[1 2 2]\n [1 1 1]\n [2 1 2]]\n"
     ]
    }
   ],
   "source": [
    "for row in state_id_lkt:\n",
    "    if row[0] == 1:\n",
    "        print(id_to_board(row[2])) "
   ]
  },
  {
   "cell_type": "code",
   "execution_count": null,
   "metadata": {},
   "outputs": [],
   "source": []
  }
 ]
}