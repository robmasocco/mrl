{
 "metadata": {
  "language_info": {
   "codemirror_mode": {
    "name": "ipython",
    "version": 3
   },
   "file_extension": ".py",
   "mimetype": "text/x-python",
   "name": "python",
   "nbconvert_exporter": "python",
   "pygments_lexer": "ipython3",
   "version": "3.8.8"
  },
  "orig_nbformat": 2,
  "kernelspec": {
   "name": "python388jvsc74a57bd0e22452b2947e29b00a483e943a1e42b28017632f5527b70408aa625d50a3b9ab",
   "display_name": "Python 3.8.8 64-bit ('base': conda)"
  },
  "metadata": {
   "interpreter": {
    "hash": "220a9a68d505f4c7a51e008be3a4ccd0bc283392114da512e1670c540685869c"
   }
  }
 },
 "nbformat": 4,
 "nbformat_minor": 2,
 "cells": [
  {
   "source": [
    "# TIC-TAC-TOE Markov Decision Process"
   ],
   "cell_type": "markdown",
   "metadata": {}
  },
  {
   "cell_type": "code",
   "execution_count": 1,
   "metadata": {},
   "outputs": [],
   "source": [
    "%run tic_tac_toe_aux_funcs.py"
   ]
  },
  {
   "source": [
    "## States\n",
    "- A board is represented with a 3x3 matrix and each cell can be filled with *None*, X or O, numerically represented with 0, 1 and 2. Hence, the number of possible boards is 3^9 = 19683.\n",
    "- Each board is uniquely identified with an ID, obtained by the conversion in base-10 of the flattened board.\n",
    "- Many boards aren't valid (e.g. the number of Xs minus number of Os is less than 0 or greater than 1) and many are equal (e.g. flip and rotation).\n",
    "- Only valid and unique *afterstates* are considered states of the MDP, plus three *terminal states* to model *draw*, *win* and *loss* for every board configuration that would lead to these situations. Hence, the number of states is much lower than 3^9.\n",
    "- To map and speed up the relations between IDs and states two lookup tables will be created:\n",
    "    - **id_to_state** -> IDs are associated to the following informations:\n",
    "        1. The type of the board: -1 not valid, 1 terminal, 0 otherwise. \n",
    "        2. If it's terminal the winner, otherwise the next player.\n",
    "        3. If it's necessary to flip this board to get the unique one.\n",
    "        4. If it's necessary to rotate this board to get the unique one and how many times.\n",
    "        5. The corresponding state.\n",
    "    - **state_to_id** -> States are associated to the following informations:\n",
    "        1. The type of the board: -1 not valid, 1 terminal, 0 otherwise. \n",
    "        2. If it's terminal the winner, otherwise the next player.\n",
    "        3. The smallest associated board ID, i.e. the corresponding unique board."
   ],
   "cell_type": "markdown",
   "metadata": {}
  },
  {
   "cell_type": "code",
   "execution_count": 2,
   "metadata": {},
   "outputs": [],
   "source": [
    "# Number of boards<->IDs to check.\n",
    "IDs = 3 ** 9\n",
    "# Create the two lookup tables.\n",
    "id_state_lkt = np.zeros((IDs, 5), dtype=np.int32)\n",
    "state_id_lkt = np.empty([0, 3], dtype=np.int32)\n",
    "# Loop on IDs.\n",
    "state = 0\n",
    "for i in range(IDs):\n",
    "    # Convert the ID to the conrresponding board.\n",
    "    board = id_to_board(i)\n",
    "    # Compute the board rotations and symmetries\n",
    "    # (this will be an info matrix).\n",
    "    ids = board_to_ids(board)\n",
    "    # Skip this board if already evaluated, i.e. we already\n",
    "    # processed the unique corresponding one that will have a lower ID.\n",
    "    if ids[0, 0] < i:\n",
    "        continue\n",
    "    # Get board info.\n",
    "    info = board_info(board)\n",
    "    # Check if the board is valid.\n",
    "    if info[0] == -1:\n",
    "        # Invalid board.\n",
    "        # Populate the id_to_state lookup table.\n",
    "        for id in ids:\n",
    "            id_state_lkt[id[0], :] = [-1, -1, -1, -1, -1]\n",
    "    elif info[0] == 0:\n",
    "        # Non-terminal board.\n",
    "        # Check next player.\n",
    "        if info[1] == 1:\n",
    "            # X's turn: populate the id_to_state lookup table.\n",
    "            for id in ids:\n",
    "                id_state_lkt[id[0], :] = [info[0], info[1], id[1], id[2], state]\n",
    "            # Populate the state_to_id lookup table.\n",
    "            state_id_lkt = np.append(state_id_lkt, [[info[0], info[1], ids[0, 0]]], axis=0)\n",
    "            # Increase the state counter.\n",
    "            state += 1\n",
    "        else:\n",
    "            # O's turn: not a state.\n",
    "            for id in ids:\n",
    "                id_state_lkt[id[0], :] = [info[0], info[1], id[1], id[2], -1]\n",
    "    else:\n",
    "        # Terminal board.\n",
    "        # We place dummy values that we'll replace.\n",
    "        if info[1] == 0:\n",
    "            # Draw: -2.\n",
    "            for id in ids:\n",
    "                id_state_lkt[id[0], :] = [info[0], info[1], id[1], id[2], -2]\n",
    "        elif info[1] == 1:\n",
    "            # Win: -3.\n",
    "            for id in ids:\n",
    "                id_state_lkt[id[0], :] = [info[0], info[1], id[1], id[2], -3]\n",
    "        else:\n",
    "            # Loss: -4.\n",
    "            for id in ids:\n",
    "                id_state_lkt[id[0], :] = [info[0], info[1], id[1], id[2], -4]\n",
    "# Add terminal states to lookup table.\n",
    "state_id_lkt = np.append(state_id_lkt, [[1, 0, -1]], axis=0)  # index: state\n",
    "state_id_lkt = np.append(state_id_lkt, [[1, 1, -2]], axis=0)  # index: state + 1\n",
    "state_id_lkt = np.append(state_id_lkt, [[1, 2, -3]], axis=0)  # index: state + 2\n",
    "# Remap terminal states.\n",
    "id_state_lkt[(id_state_lkt[:, -1] == -2), -1] = state\n",
    "id_state_lkt[(id_state_lkt[:, -1] == -3), -1] = state + 1\n",
    "id_state_lkt[(id_state_lkt[:, -1] == -4), -1] = state + 2\n",
    "\n",
    "# Number of states, now only afterstates plus three.\n",
    "S = state_id_lkt.shape[0]\n",
    "# Number of actions.\n",
    "A = 9"
   ]
  },
  {
   "source": [
    "## Transitions matrix\n",
    "- The transitions matrix P has dimensions *S x S x A*.\n",
    "- We directly compute each entry of the matrix, which is the probability of getting from state *s* to state *s_p* taking an action *a*:\n",
    "    - At first, if the current state is terminal all actions should lead here, so P(s, s, :) = 1.\n",
    "    - If the state is not terminal we have to check each action and tell if it can be done here or not:\n",
    "        - By choice, *infeasible* actions keep the player in the current state, so again P(s, s, a) = 1. We'll deal with this in the reward matrix.\n",
    "        - If the actions is valid, we compute the resulting board, the feasible actions for the opponent, and for each non-terminal state we set uniform probability."
   ],
   "cell_type": "markdown",
   "metadata": {}
  },
  {
   "cell_type": "code",
   "execution_count": 3,
   "metadata": {
    "tags": []
   },
   "outputs": [],
   "source": [
    "prec = np.float128\n",
    "\n",
    "# Create transitions matrix P.\n",
    "P = np.zeros((S, S, A), dtype=prec)\n",
    "for s in range(S):\n",
    "    info = state_id_lkt[s]\n",
    "    if info[0] == 1:\n",
    "        # Terminal state: all actions lead here.\n",
    "        P[s, s, :] = 1.0\n",
    "    else:\n",
    "        # Not a terminal board.\n",
    "        # What can we do?\n",
    "        actions_X = get_actions(info[2])\n",
    "        # SANITY CHECK\n",
    "        if len(actions_X) == 0:\n",
    "            print(\"ERROR IN P GENERATION: NO POSSIBLE ACTIONS FOR X.\")\n",
    "            raise\n",
    "        for a_X in range(A):\n",
    "            if a_X in actions_X:\n",
    "                # Possible action.\n",
    "                # Compute the new board and its ID.\n",
    "                id = np.copy(info[2])\n",
    "                id_X = id + (3 ** (8 - a_X))\n",
    "                # Check if this is a terminal state.\n",
    "                if id_state_lkt[id_X, 0] == 1:\n",
    "                    if id_state_lkt[id_X, 1] == 0:\n",
    "                        # Draw.\n",
    "                        P[s, S - 3, a_X] = 1.0\n",
    "                    elif id_state_lkt[id_X, 1] == 1:\n",
    "                        # Win.\n",
    "                        P[s, S - 2, a_X] = 1.0\n",
    "                    else:\n",
    "                        # This is impossible beacuse there cannot be a defeat for X if it\n",
    "                        # has just played.\n",
    "                        print(\"ERROR IN P GENERATION: TERMINAL STATE INVALID.\")\n",
    "                        raise\n",
    "                else:\n",
    "                    # Get the next state from the new ID.\n",
    "                    actions_O = get_actions(id_X)\n",
    "                    if len(actions_O) == 0:\n",
    "                        print(\"ERROR IN P GENERATION: EMPTY O ACTIONS.\")\n",
    "                        raise\n",
    "                    for a_O in actions_O:\n",
    "                        id_O = id_X + 2 * (3 ** (8 - a_O))\n",
    "                        sp = id_state_lkt[id_O, 4]\n",
    "                        # SANITY CHECK\n",
    "                        if sp < 0:\n",
    "                            print(\"ERROR IN P GENERATION: NEXT STATE {} INVALID.\".format([id_O, sp]))\n",
    "                            raise\n",
    "                        P[s, sp, a_X] += 1.0 / float(len(actions_O))\n",
    "            else:\n",
    "                # Impossible action: stay here.\n",
    "                P[s, s, a_X] = 1.0"
   ]
  },
  {
   "source": [
    "## Row-stochasticity checks\n",
    "P has to be row-stochastic for this to work."
   ],
   "cell_type": "markdown",
   "metadata": {}
  },
  {
   "cell_type": "code",
   "execution_count": 4,
   "metadata": {
    "tags": []
   },
   "outputs": [
    {
     "output_type": "stream",
     "name": "stdout",
     "text": [
      "P is row-stochastic.\n"
     ]
    }
   ],
   "source": [
    "sto = np.zeros((S, A))\n",
    "for a in range(A):\n",
    "    for i, row in enumerate(P[:, :, a]):\n",
    "        sto[i, a] = np.sum(row)\n",
    "        if sto[i, a] != 1.0:\n",
    "            print(\"ERROR IN P GENERATION: ROW-STOCHASTICITY VIOLATED IN (ROW, ACTION) {}.\".format((i, a)))\n",
    "            raise\n",
    "print(\"P is row-stochastic.\")"
   ]
  },
  {
   "source": [
    "## Rewards matrix\n",
    "- Expected rewards matrix R has dimentions *S x A*.\n",
    "- +1 for every (state, action) pair that corresponds to a victory.\n",
    "- -1 for every (state, action) pair that corresponds to a defeat.\n",
    "- For every other pair we can choose between:\n",
    "    - Assigning 0: this will result in the optimal policy taking unnecessary actions that will in any case result in a victory or a draw, although not so quickly and often in multiple ways at the same time.\n",
    "    - Assigning -1: this will result in the optimal policy being time-greedy, taking the least possible number of actions to win.\n",
    "- **To make this work we need a _soft constraint_: all infeasible (state, action) pairs have a negative reward, e.g. -1.**\n",
    "\n",
    "We create this matrix doing as follows:\n",
    "- Create a reward vector of size S that for each state holds 1, 0 or -1 depending on its type.\n",
    "- For each (state, action) pair, take the transition probability vector P(s, :, a).\n",
    "- Compute the expected reward for this pair as the inner product of the two former vectors.\n"
   ],
   "cell_type": "markdown",
   "metadata": {}
  },
  {
   "cell_type": "code",
   "execution_count": 5,
   "metadata": {},
   "outputs": [],
   "source": [
    "prec = np.float128\n",
    "# Create the rewards vector.\n",
    "# Set this for standard reward.\n",
    "reward_vector = np.zeros(S, dtype=prec)\n",
    "reward_vector[-2] = 1.0\n",
    "reward_vector[-1] = -1.0\n",
    "# Set this for least possible number of moves.\n",
    "# reward_vector = np.full(S, -1.0, dtype=prec)\n",
    "# reward_vector[-2] = 10.0\n",
    "\n",
    "# Create rewards matrix.\n",
    "R = np.zeros((S, A), dtype=prec)\n",
    "# Loop on states.\n",
    "for s in range(S):\n",
    "    # Get state info.\n",
    "    info = state_id_lkt[s]\n",
    "    if info[0] == 1:\n",
    "        continue\n",
    "    # Get valid actions.\n",
    "    actions = get_actions(info[2])\n",
    "    # Loop on actions.\n",
    "    for a in range(A):\n",
    "        if a in actions:\n",
    "            R[s, a] = np.matmul(np.copy(P[s, :, a]), reward_vector, dtype=prec)\n",
    "        else:\n",
    "            # Soft constrain for infeasible moves.\n",
    "            R[s, a] = -10.0"
   ]
  },
  {
   "cell_type": "code",
   "execution_count": 6,
   "metadata": {},
   "outputs": [],
   "source": [
    "# Dump data on files.\n",
    "id_state_lkt.dump(\"ttt_id2s.dat\")\n",
    "state_id_lkt.dump(\"ttt_s2id.dat\")\n",
    "P.dump(\"ttt_P.dat\")\n",
    "R.dump(\"ttt_R.dat\")"
   ]
  }
 ]
}