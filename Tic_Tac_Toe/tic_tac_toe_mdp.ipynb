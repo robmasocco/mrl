{
 "metadata": {
  "language_info": {
   "codemirror_mode": {
    "name": "ipython",
    "version": 3
   },
   "file_extension": ".py",
   "mimetype": "text/x-python",
   "name": "python",
   "nbconvert_exporter": "python",
   "pygments_lexer": "ipython3",
   "version": "3.8.5"
  },
  "orig_nbformat": 2,
  "kernelspec": {
   "name": "python385jvsc74a57bd0e22452b2947e29b00a483e943a1e42b28017632f5527b70408aa625d50a3b9ab",
   "display_name": "Python 3.8.5 64-bit ('base': conda)"
  },
  "metadata": {
   "interpreter": {
    "hash": "220a9a68d505f4c7a51e008be3a4ccd0bc283392114da512e1670c540685869c"
   }
  }
 },
 "nbformat": 4,
 "nbformat_minor": 2,
 "cells": [
  {
   "source": [
    "# TIC-TAC-TOE Markov Decision Process"
   ],
   "cell_type": "markdown",
   "metadata": {}
  },
  {
   "cell_type": "code",
   "execution_count": 51,
   "metadata": {},
   "outputs": [],
   "source": [
    "import numpy as np"
   ]
  },
  {
   "source": [
    "## Auxiliary functions to build the model"
   ],
   "cell_type": "markdown",
   "metadata": {}
  },
  {
   "cell_type": "code",
   "execution_count": 52,
   "metadata": {},
   "outputs": [],
   "source": [
    "def board_to_id(B):\n",
    "    \"\"\"Takes a board matrix and returns a base-10 board ID.\"\"\"\n",
    "    symbols = B.flatten()\n",
    "    id = 0\n",
    "    for i in range(9):\n",
    "        id += int(symbols[i] * (3 ** (8 - i)))\n",
    "    return id\n",
    "\n",
    "def board_to_ids(B):\n",
    "    \"\"\"Takes a board matrix and returns a the IDs of all its rotations and symmetries with the relative transformations.\"\"\"\n",
    "    # Define an empty matrix for the IDs.\n",
    "    ids = np.empty([0, 3], dtype=np.int32)\n",
    "    # No flip.\n",
    "    for i in range(4):\n",
    "        id = board_to_id(np.rot90(B, i))\n",
    "        # Append the ID only if not present.\n",
    "        if not id in ids[:, 0]:\n",
    "            ids = np.append(ids, [[id, 0, i]], axis=0)\n",
    "    # Flip left-right.\n",
    "    flip_lr_B = np.fliplr(B)\n",
    "    for j in range(4):\n",
    "        id = board_to_id(np.rot90(flip_lr_B, j))\n",
    "        # Append the ID only if not present.\n",
    "        if not id in ids[:, 0]:\n",
    "            ids = np.append(ids, [[id, 1, j]], axis=0)\n",
    "    # Return the sorted matrix.\n",
    "    return ids[ids[:,0].argsort()]\n",
    "\n",
    "def id_to_board(id):\n",
    "    \"\"\"Takes a base-10 board ID and returns a board matrix.\"\"\"\n",
    "    board_str = np.base_repr(id, base=3).zfill(9)\n",
    "    return np.array(list(board_str), dtype=np.int8).reshape(3, 3)\n",
    "\n",
    "def find_win(B, marker):\n",
    "    \"\"\"Takes a board matrix and checks if there are 3 equal markers in a row horizontal, vertical or diagonal.\"\"\"\n",
    "    # Checks the rows.\n",
    "    for row in B:\n",
    "        if np.all(row == marker):\n",
    "            return True\n",
    "    # Checks the columns.\n",
    "    for col in B.T:\n",
    "        if np.all(col == marker):\n",
    "            return True\n",
    "    # Checks the diagonal.\n",
    "    diag = np.diagonal(B)\n",
    "    if np.all(diag == marker):\n",
    "        return True\n",
    "    # Checks the anti-diagonal.\n",
    "    fliped_B = np.fliplr(B)\n",
    "    anti_diag = np.diagonal(fliped_B)\n",
    "    if np.all(anti_diag == marker):\n",
    "        return True\n",
    "    # No winning combinations.\n",
    "    return False\n",
    "\n",
    "def board_info(B):\n",
    "    \"\"\"Takes a board matrix and returns its information: terminal, valid or invalid board and the winner or the next player.\"\"\"\n",
    "    xs = np.count_nonzero(B == 1)\n",
    "    os = np.count_nonzero(B == 2)\n",
    "    # Swith according to the difference of the markers.\n",
    "    diff = xs - os\n",
    "    if diff == 1:\n",
    "        # Last player to move was X.\n",
    "        if find_win(B, 2):\n",
    "            return -1, -1\n",
    "        if find_win(B, 1):\n",
    "            return 1, 1\n",
    "        else:\n",
    "            # Board is full.\n",
    "            if xs == 5:\n",
    "                return 1, 0\n",
    "            else:\n",
    "                return 0, 2\n",
    "    elif diff == 0:\n",
    "        # Last player to move was O.\n",
    "        if find_win(B, 1):\n",
    "            return -1, -1\n",
    "        if find_win(B, 2):\n",
    "            return 1, 2\n",
    "        else:\n",
    "            return 0, 1\n",
    "    else:\n",
    "        return -1, -1\n",
    "\n",
    "def populate_lk_tables():\n",
    "    \"\"\"\n",
    "    Creates and populates two lookup tables: \n",
    "        1. id_to_state: terminal, valid or invalid | winner or next player | flips | rotations | state\n",
    "        2. state_to_id: terminal, valid or invalid | winner or next player | smallest board ID\n",
    "    \"\"\"\n",
    "    # Number of boards to checks.\n",
    "    IDs = 3 ** 9\n",
    "    # Create the lookup tables.\n",
    "    id_state_lkt = np.zeros((IDs, 5), dtype=np.int32)\n",
    "    state_id_lkt = np.empty([0, 3], dtype=np.int32)\n",
    "    # Loop for each id.\n",
    "    state = 0\n",
    "    for board_id in range(IDs):\n",
    "        # Convert the id to relative board.\n",
    "        B = id_to_board(board_id)\n",
    "        # Compute the board rotations and symmetries.\n",
    "        ids = board_to_ids(B)\n",
    "        # Skip if already valueted.\n",
    "        if ids[0, 0] < board_id:\n",
    "            continue\n",
    "        # Get board info.\n",
    "        info = board_info(B)\n",
    "        # Check if the board is valid.\n",
    "        if info[0] == -1:\n",
    "            # Populate the id_to_state lookup table.\n",
    "            for id in ids:\n",
    "                id_state_lkt[id[0]] = [-1, -1, -1, -1, -1]\n",
    "        else:\n",
    "            # Populate the id_to_state lookup table.\n",
    "            for id in ids:\n",
    "                id_state_lkt[id[0]] = [info[0], info[1], id[1], id[2], state]\n",
    "            # Populate the state_to_id lookup table.\n",
    "            state_id_lkt = np.append(state_id_lkt, [[info[0], info[1], ids[0, 0]]], axis=0)\n",
    "            # Increase state counter.\n",
    "            state += 1\n",
    "    return id_state_lkt, state_id_lkt\n",
    "\n",
    "def map_action(action, flip, rot):\n",
    "    \"\"\"Takes an action and applys the flip and rotations\"\"\"\n",
    "    B = np.zeros((3, 3), dtype=np.int32)\n",
    "    old_indices = np.unravel_index(action, (3, 3))\n",
    "    B[old_indices[0], old_indices[1]] = 1\n",
    "    if flip == 1:\n",
    "        flipped_B = np.fliplr(B)\n",
    "    else:\n",
    "        flipped_B = B\n",
    "    rotated_B = np.rot90(flipped_B, rot)\n",
    "    new_action = np.argmax(rotated_B)\n",
    "    new_indices = np.unravel_index(new_action, (3, 3))\n",
    "    return new_action, new_indices\n",
    "\n",
    "def print_board(B):\n",
    "    for i in range(3):\n",
    "        for j in range(3):\n",
    "            if B[i, j] == 1:\n",
    "                print(\" X \", end=\"\")\n",
    "            elif B[i, j] == 2:\n",
    "                print(\" O \", end=\"\")\n",
    "            else:\n",
    "                print(\"   \", end=\"\")\n",
    "            if j != 2:\n",
    "                print(\"|\", end=\"\")\n",
    "            else:\n",
    "                print()\n",
    "        if i != 2:\n",
    "            print(\"---+---+---\")"
   ]
  },
  {
   "cell_type": "code",
   "execution_count": 53,
   "metadata": {
    "tags": []
   },
   "outputs": [],
   "source": [
    "#id_state_lkt, state_id_lkt = populate_lk_tables()"
   ]
  },
  {
   "cell_type": "code",
   "execution_count": 54,
   "metadata": {},
   "outputs": [
    {
     "output_type": "stream",
     "name": "stdout",
     "text": [
      " X |   |   \n_ _ _ _ _ _\n X | O |   \n_ _ _ _ _ _\n X |   |   \n"
     ]
    }
   ],
   "source": [
    "B = np.array([[1, 0, 0], [1, 2, 0], [1, 0, 0]], dtype=np.int32)\n",
    "print_board(B)"
   ]
  }
 ]
}