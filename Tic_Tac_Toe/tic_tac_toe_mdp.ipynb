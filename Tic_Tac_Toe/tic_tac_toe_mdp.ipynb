{
 "metadata": {
  "language_info": {
   "codemirror_mode": {
    "name": "ipython",
    "version": 3
   },
   "file_extension": ".py",
   "mimetype": "text/x-python",
   "name": "python",
   "nbconvert_exporter": "python",
   "pygments_lexer": "ipython3",
   "version": "3.8.5"
  },
  "orig_nbformat": 2,
  "kernelspec": {
   "name": "python385jvsc74a57bd0d45e406d0e0708198588c4cd422e9b9b922df52c309efe81ad56c437167c4d05",
   "display_name": "Python 3.8.5 64-bit ('base': conda)"
  },
  "metadata": {
   "interpreter": {
    "hash": "220a9a68d505f4c7a51e008be3a4ccd0bc283392114da512e1670c540685869c"
   }
  }
 },
 "nbformat": 4,
 "nbformat_minor": 2,
 "cells": [
  {
   "source": [
    "# TIC-TAC-TOE Markov Decision Process"
   ],
   "cell_type": "markdown",
   "metadata": {}
  },
  {
   "cell_type": "code",
   "execution_count": 5,
   "metadata": {},
   "outputs": [],
   "source": [
    "import numpy as np"
   ]
  },
  {
   "source": [
    "## Auxiliary functions to build the model"
   ],
   "cell_type": "markdown",
   "metadata": {}
  },
  {
   "cell_type": "code",
   "execution_count": 6,
   "metadata": {},
   "outputs": [],
   "source": [
    "def board_to_id(B):\n",
    "    \"\"\"Takes a board matrix and returns a base-10 board ID.\"\"\"\n",
    "    symbols = B.flatten()\n",
    "    id = 0\n",
    "    for i in range(9):\n",
    "        id += int(symbols[i] * (3 ** (8 - i)))\n",
    "    return id\n",
    "\n",
    "def board_to_ids(B):\n",
    "    \"\"\"Takes a board matrix and returns a list with the base-10 board ID of all its rotations.\"\"\"\n",
    "    ids = np.empty([0, 3], dtype=np.int32)\n",
    "    # No flip.\n",
    "    for i in range(4):\n",
    "        id = board_to_id(np.rot90(B, i))\n",
    "        if not id in ids[:, 0]:\n",
    "            ids = np.append(ids, [[id, 0, i]], axis=0)\n",
    "    # Flip left-right.\n",
    "    flip_lr_B = np.fliplr(B)\n",
    "    for j in range(4):\n",
    "        id = board_to_id(np.rot90(flip_lr_B, j))\n",
    "        if not id in ids[:, 0]:\n",
    "            ids = np.append(ids, [[id, 1, j]], axis=0)\n",
    "    # Flip up-down.\n",
    "    #flip_up_B = np.flipud(B)\n",
    "    #for k in range(4):\n",
    "    #    id = board_to_id(np.rot90(flip_up_B, k))\n",
    "    #    if not id in ids[:, 0]:\n",
    "    #        ids = np.append(ids, [[id, 2, k]], axis=0)\n",
    "    return ids[ids[:,0].argsort()]\n",
    "\n",
    "def id_to_board(id):\n",
    "    \"\"\"Takes a base-10 board ID and returns a board matrix.\"\"\"\n",
    "    board_str = np.base_repr(id, base=3).zfill(9)\n",
    "    return np.array(list(board_str), dtype=np.int8).reshape(3, 3)\n",
    "\n",
    "def find_win(B, mark):\n",
    "    \"\"\"Takes a board matrix and checks if there are 3 equal mark in a row horizontal, vertical or diagonal and the its number.\"\"\"\n",
    "    # Checks the rows.\n",
    "    for row in B:\n",
    "        if np.all(row == mark):\n",
    "            return True\n",
    "    # Checks the columns.\n",
    "    for col in B.T:\n",
    "        if np.all(col == mark):\n",
    "            return True\n",
    "    # Checks the diagonal.\n",
    "    diag = np.diagonal(B)\n",
    "    if np.all(diag == mark):\n",
    "        return True\n",
    "    # Checks the anti-diagonal.\n",
    "    flip_B = np.fliplr(B)\n",
    "    anti_diag = np.diagonal(flip_B)\n",
    "    if np.all(anti_diag == mark):\n",
    "        return True\n",
    "    return False\n",
    "\n",
    "def board_info(B):\n",
    "    \"\"\"Takes a board matrix and return its information: terminal, valid or invalid board and the winner or the next player.\"\"\"\n",
    "    xs = np.count_nonzero(B == 1)\n",
    "    os = np.count_nonzero(B == 2)\n",
    "    diff = xs - os\n",
    "    if diff == 1:\n",
    "        # Last player to move was X.\n",
    "        if find_win(B, 2):\n",
    "            return -1, -1\n",
    "        if find_win(B, 1):\n",
    "            return 1, 1\n",
    "        else:\n",
    "            if xs == 5:\n",
    "                return 1, 0\n",
    "            else:\n",
    "                return 0, 2\n",
    "    elif diff == 0:\n",
    "        # Last player to move was O.\n",
    "        if find_win(B, 1):\n",
    "            return -1, -1\n",
    "        if find_win(B, 2):\n",
    "            return 1, 2\n",
    "        else:\n",
    "            return 0, 1\n",
    "    else:\n",
    "        return -1, -1\n",
    "\n",
    "def populate_lk_tables():\n",
    "    # Number of boards to checks.\n",
    "    IDs = 3 ** 9\n",
    "    # Create the lookup tables.\n",
    "    id_state_lkt = np.zeros((IDs, 5), dtype=np.int32)\n",
    "    state_id_lkt = np.empty([0, 3], dtype=np.int32)\n",
    "    # Loop for each board.\n",
    "    state = 0\n",
    "    for board_id in range(IDs):\n",
    "        # Convert id to board.\n",
    "        B = id_to_board(board_id)\n",
    "        # Compute board rotations.\n",
    "        ids = board_to_ids(B)\n",
    "        if ids[0, 0] < board_id:\n",
    "            continue\n",
    "        # Get board info.\n",
    "        info = board_info(B)\n",
    "        # Check if the board is valid.\n",
    "        if info[0] == -1:\n",
    "            # Populate the id_to_state lookup table.\n",
    "            for id in ids:\n",
    "                id_state_lkt[id[0]] = [-1, -1, -1, -1, -1]\n",
    "        else:\n",
    "            # Populate the id_to_state lookup table.\n",
    "            for id in ids:\n",
    "                id_state_lkt[id[0]] = [info[0], info[1], id[1], id[2], state]\n",
    "            # Populate the state_to_id lookup table.\n",
    "            state_id_lkt = np.append(state_id_lkt, [[info[0], info[1], ids[0, 0]]], axis=0)\n",
    "            # Increase state counter.\n",
    "            state += 1\n",
    "            \n",
    "    # Remove first dummy row.\n",
    "    #state_id_lkt = np.delete(state_id_lkt, 0, axis=0)\n",
    "    return id_state_lkt, state_id_lkt\n",
    "\n",
    "def map_action(action, flip, rot):\n",
    "    \"\"\"\"\"\"\n",
    "    B = np.zeros((3, 3), dtype=np.int32)\n",
    "    old_indices = np.unravel_index(action, (3, 3))\n",
    "    B[old_indices[0], old_indices[1]] = 1\n",
    "    if flip == 1:\n",
    "        flipped_B = np.fliplr(B)\n",
    "    else:\n",
    "        flipped_B = B\n",
    "    rotated_B = np.rot90(flipped_B, rot)\n",
    "    new_action = np.argmax(rotated_B)\n",
    "    new_indices = np.unravel_index(new_action, (3, 3))\n",
    "    return new_action, new_indices"
   ]
  },
  {
   "cell_type": "code",
   "execution_count": 7,
   "metadata": {
    "tags": []
   },
   "outputs": [],
   "source": [
    "id_state_lkt, state_id_lkt = populate_lk_tables()"
   ]
  },
  {
   "cell_type": "code",
   "execution_count": 8,
   "metadata": {},
   "outputs": [
    {
     "output_type": "stream",
     "name": "stdout",
     "text": [
      "[[1 1 1]\n [0 2 0]\n [2 0 0]]\nTrue\nFalse\n(1, 1)\n[[  937     1     3]\n [ 1633     0     2]\n [ 6977     0     1]\n [ 8433     1     1]\n [ 9641     1     0]\n [ 9657     0     0]\n [13297     1     2]\n [14041     0     3]]\n"
     ]
    }
   ],
   "source": [
    "B = np.array([[1, 1, 1],[0, 2, 0],[2, 0, 0]])\n",
    "print(B)\n",
    "print(find_win(B, 1))\n",
    "print(find_win(B, 2))\n",
    "print(board_info(B))\n",
    "print(board_to_ids(B))"
   ]
  }
 ]
}