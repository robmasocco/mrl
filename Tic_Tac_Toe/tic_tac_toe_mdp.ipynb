{
 "metadata": {
  "language_info": {
   "codemirror_mode": {
    "name": "ipython",
    "version": 3
   },
   "file_extension": ".py",
   "mimetype": "text/x-python",
   "name": "python",
   "nbconvert_exporter": "python",
   "pygments_lexer": "ipython3",
   "version": "3.7.9-final"
  },
  "orig_nbformat": 2,
  "kernelspec": {
   "name": "python3",
   "display_name": "Python 3.7.9 64-bit ('MachineLearning': conda)",
   "metadata": {
    "interpreter": {
     "hash": "d8a195330d7b39ab8358992b1258f0c44024a399da233a32fe08e0c9d3e1ad0d"
    }
   }
  },
  "metadata": {
   "interpreter": {
    "hash": "220a9a68d505f4c7a51e008be3a4ccd0bc283392114da512e1670c540685869c"
   }
  }
 },
 "nbformat": 4,
 "nbformat_minor": 2,
 "cells": [
  {
   "source": [
    "# TIC-TAC-TOE Markov Decision Process"
   ],
   "cell_type": "markdown",
   "metadata": {}
  },
  {
   "source": [
    "## Auxiliary functions to build the model"
   ],
   "cell_type": "markdown",
   "metadata": {}
  },
  {
   "cell_type": "code",
   "execution_count": 1,
   "metadata": {},
   "outputs": [],
   "source": [
    "%run tic_tac_toe_aux_funcs.py\n",
    "%run ../libs/dynamic_programming.py"
   ]
  },
  {
   "source": [
    "## States\n",
    "- A board is represented with a 3x3 matrix and each cell can be filled with None, X or O, numerically represented with 0, 1 and 2. Hence, the number of possible boards is 3^9 = 19683.\n",
    "- Each board is uniquely identified with an ID, obtained by the conversion in base-10 of the flattened board.\n",
    "- Many boards aren't valid (e.g. the number of Xs minus number of Os is less than 0 or greater than 1) and many are equal (e.g. flip and rotation).\n",
    "- Only valid and unique boards are considered states of the MDP. Hence, the number of states is 765.\n",
    "- To map and speed up the relations between IDs and states are created two lookup tables:\n",
    "    - **id_to_state** -> for each ID are associated the following informations:\n",
    "        1. The type of the board: -1 not valid, 1 terminal, 0 otherwise. \n",
    "        2. If it's terminal the winner, otherwise the next player to play.\n",
    "        3. If it's necessary to make flip.\n",
    "        4. If it's necessary to make rotations and how many.\n",
    "        5. The assosiated state.\n",
    "    - **state_to_id** -> for each state are associated the following informations:\n",
    "        1. The type of the board: -1 not valid, 1 terminal, 0 otherwise. \n",
    "        2. If it's terminal the winner or the next player to play.\n",
    "        3. The smallest associated ID. "
   ],
   "cell_type": "markdown",
   "metadata": {}
  },
  {
   "cell_type": "code",
   "execution_count": 2,
   "metadata": {},
   "outputs": [],
   "source": [
    "# Number of IDs to checks.\n",
    "IDs = 3 ** 9\n",
    "# Create the two lookup tables.\n",
    "id_state_lkt = np.zeros((IDs, 5), dtype=np.int32)\n",
    "state_id_lkt = np.empty([0, 3], dtype=np.int32)\n",
    "# Loop for each ID.\n",
    "state = 0\n",
    "for i in range(IDs):\n",
    "    # Convert the ID to the relative board.\n",
    "    board = id_to_board(i)\n",
    "    # Compute the board rotations and symmetries.\n",
    "    ids = board_to_ids(board)\n",
    "    # Skip if already valueted.\n",
    "    if ids[0, 0] < i:\n",
    "        continue\n",
    "    # Get board info.\n",
    "    info = board_info(board)\n",
    "    # Check if the board is valid.\n",
    "    if info[0] == -1:\n",
    "        # Populate the id_to_state lookup table.\n",
    "        for id in ids:\n",
    "            id_state_lkt[id[0], :] = [-1, -1, -1, -1, -1]\n",
    "    else:\n",
    "        # Populate the id_to_state lookup table.\n",
    "        for id in ids:\n",
    "            id_state_lkt[id[0], :] = [info[0], info[1], id[1], id[2], state]\n",
    "        # Populate the state_to_id lookup table.\n",
    "        state_id_lkt = np.append(state_id_lkt, [[info[0], info[1], ids[0, 0]]], axis=0)\n",
    "        # Increase the state counter.\n",
    "        state += 1\n",
    "        \n",
    "# Number of states\n",
    "S = state_id_lkt.shape[0]\n",
    "# Number of actions\n",
    "A = 9\n",
    "\n",
    "# Checks on lookup tables\n",
    "for s in range(S):\n",
    "    board = id_to_board(state_id_lkt[s, 2])\n",
    "    ids = board_to_ids(board)\n",
    "    for id in ids[:, 0]:\n",
    "        if id_state_lkt[id, 4] != s:\n",
    "            print(\"Error in lookup tables\")"
   ]
  },
  {
   "source": [
    "## Transitions matrix\n",
    "- The transitions matrix P has dimensions *S x S x A*.\n",
    "- Use the *Law of Total Probability* to create P.\n",
    "- ***P_X(s,s',a)***: the transition from s to s' is deterministaclly defined by action a taken.\n",
    "- ***P_O(s,s')***: the transition from s to s' is randomic, in particular the opponent's policy is uniform.\n",
    "- ***P = P_X \\* P_O***"
   ],
   "cell_type": "markdown",
   "metadata": {}
  },
  {
   "cell_type": "code",
   "execution_count": 3,
   "metadata": {
    "tags": []
   },
   "outputs": [],
   "source": [
    "prec = np.float128\n",
    "# Create P_X matrix.\n",
    "P_X = np.zeros((S, S, A), dtype=prec)\n",
    "# Loop for each state.\n",
    "for s in range(S):\n",
    "    # Take the entry of the lookup table.\n",
    "    lkt_entry = state_id_lkt[s, :]\n",
    "    # Checks if it's terminal.\n",
    "    if lkt_entry[0] == 1:\n",
    "        P_X[s, s, :] = 1.0\n",
    "    else:\n",
    "        # Checks if it's X's turn.\n",
    "        if lkt_entry[1] == 1:\n",
    "            # Get the board from the state.\n",
    "            id = lkt_entry[2]\n",
    "            actions = get_actions(id)\n",
    "            # Loop for each action.\n",
    "            for a in range(A):\n",
    "                if a in actions:\n",
    "                    # Compute the new board and its ID.\n",
    "                    new_id = id + 3 ** (8 - a)\n",
    "                    # Get the next state from the new ID.\n",
    "                    new_state = id_state_lkt[new_id, 4]\n",
    "                    # Set P_X(s,s',a) = 1\n",
    "                    P_X[s, new_state, a] = 1.0\n",
    "                else:\n",
    "                    P_X[s, s, a] = 1.0\n",
    "        else:\n",
    "            P_X[s, s, :] = 1.0\n",
    "\n",
    "# Create P_O matrix\n",
    "P_O = np.zeros((S, S), dtype=prec)\n",
    "# Loop for each state.\n",
    "for s in range(S):\n",
    "    # Take the entry of the lookup table.\n",
    "    lkt_entry = state_id_lkt[s, :]\n",
    "    # Checks if it's terminal.\n",
    "    if lkt_entry[0] == 1:\n",
    "        P_O[s, s] = 1.0\n",
    "    else:\n",
    "        # Checks if it's O's turn.\n",
    "        if lkt_entry[1] == 2:\n",
    "            # Get the board from the state.\n",
    "            id = lkt_entry[2]\n",
    "            actions = get_actions(id)\n",
    "            # Loop for each action.\n",
    "            for i, a in enumerate(actions):\n",
    "                # Compute the new board and its ID.\n",
    "                new_id = id + 2 * (3 ** (8 - a))\n",
    "                # Get the next state from the new ID.\n",
    "                new_state = id_state_lkt[new_id, 4]\n",
    "                # Set P_O(s,s') = 1/size\n",
    "                #if i == len(actions) - 1:\n",
    "                #    P_O[s, new_state] += 1.0 - np.sum(P_O[s, :], dtype=prec)\n",
    "                #else:\n",
    "                P_O[s, new_state] += 1.0 / len(actions)\n",
    "        else:\n",
    "            P_O[s, s] = 1.0\n",
    "\n",
    "# Create transitions matrix P.\n",
    "P = np.zeros((S, S, A), dtype=prec)\n",
    "for a in range(A):\n",
    "    P[:, :, a] = np.matmul(P_X[:, :, a], P_O, dtype=prec)"
   ]
  },
  {
   "source": [
    "## Row-stochasticity checks"
   ],
   "cell_type": "markdown",
   "metadata": {}
  },
  {
   "cell_type": "code",
   "execution_count": 4,
   "metadata": {
    "tags": []
   },
   "outputs": [
    {
     "output_type": "stream",
     "name": "stdout",
     "text": [
      "0\n0\n0\n"
     ]
    }
   ],
   "source": [
    "sto_X = np.zeros((S, A))\n",
    "for a in range(A):\n",
    "    for i, row in enumerate(P_X[:, :, a]):\n",
    "        sto_X[i, a] = np.sum(row)\n",
    "print(np.count_nonzero(sto_X != 1.0))\n",
    "\n",
    "sto_O = np.zeros(S)\n",
    "for i, row in enumerate(P_O):\n",
    "    sto_O[i] = np.sum(row)\n",
    "    if sto_O[i] != 1.0:\n",
    "        print(\"i = {}, {}\".format(i, sto_O[i]))\n",
    "print(np.count_nonzero(sto_O != 1.0))\n",
    "\n",
    "#state = 7\n",
    "#tot = 0\n",
    "#for j in P_O[state, :]:\n",
    "#    if j != 0.0:\n",
    "#        tot += j\n",
    "#        print(tot)\n",
    "#        print(j)\n",
    "#id = state_id_lkt[state, 2]\n",
    "#print_board(id_to_board(id))\n",
    "    \n",
    "sto = np.zeros((S, A))\n",
    "for a in range(A):\n",
    "    for i, row in enumerate(P[:, :, a]):\n",
    "        sto[i, a] = np.sum(row)\n",
    "print(np.count_nonzero(sto != 1.0))"
   ]
  },
  {
   "source": [
    "## Rewards matrix\n",
    "- +1 for an action that leads to a winning board.\n",
    "- -1 for an action that leads to a losing board.\n",
    "- 0 for any other actions.\n",
    "- Expected rewards matrix R has dimentions *S x A*.\n",
    "- Create a reward vector with dimention S that for each state says 1, 0, -1  in base of its type.\n",
    "- For each couple state-action, take the transitions vector P(s, :, a) \n",
    "- Compute the expected reward for the state s as the inner product of the two former vectors.\n"
   ],
   "cell_type": "markdown",
   "metadata": {}
  },
  {
   "cell_type": "code",
   "execution_count": 5,
   "metadata": {},
   "outputs": [],
   "source": [
    "prec = np.float128\n",
    "# Compute the rewards vector.\n",
    "reward_vector = np.zeros(S, dtype=prec)\n",
    "# Loop for each state.\n",
    "for s in range(S):\n",
    "    # Take the entry of the lookup table.\n",
    "    entry_lkt = state_id_lkt[s, :]\n",
    "    # Check if it's terminal.\n",
    "    if entry_lkt[0] == 0:\n",
    "        reward_vector[s] = 0.0\n",
    "    else:\n",
    "        # Check the winner.\n",
    "        if entry_lkt[1] == 1:\n",
    "            reward_vector[s] = 1.0\n",
    "        elif entry_lkt[1] == 2:\n",
    "            reward_vector[s] = -1.0\n",
    "\n",
    "# Create rewards matrix.\n",
    "R = np.zeros((S, A), dtype=prec)\n",
    "# Loop for each state.\n",
    "for s in range(S):\n",
    "    # Loop for each action.\n",
    "    for a in range(A):\n",
    "        R[s,a] = np.matmul(np.copy(P[s, :, a]), reward_vector, dtype=prec)"
   ]
  },
  {
   "cell_type": "code",
   "execution_count": 6,
   "metadata": {},
   "outputs": [],
   "source": [
    "# Dump data on files.\n",
    "id_state_lkt.dump(\"ttt_id2s.dat\")\n",
    "state_id_lkt.dump(\"ttt_s2id.dat\")\n",
    "P.dump(\"ttt_P.dat\")\n",
    "R.dump(\"ttt_R.dat\")"
   ]
  }
 ]
}