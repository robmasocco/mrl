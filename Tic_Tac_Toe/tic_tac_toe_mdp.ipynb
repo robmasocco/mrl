{
 "metadata": {
  "language_info": {
   "codemirror_mode": {
    "name": "ipython",
    "version": 3
   },
   "file_extension": ".py",
   "mimetype": "text/x-python",
   "name": "python",
   "nbconvert_exporter": "python",
   "pygments_lexer": "ipython3",
   "version": "3.8.8"
  },
  "orig_nbformat": 2,
  "kernelspec": {
   "name": "python388jvsc74a57bd0e22452b2947e29b00a483e943a1e42b28017632f5527b70408aa625d50a3b9ab",
   "display_name": "Python 3.8.8 64-bit ('base': conda)"
  },
  "metadata": {
   "interpreter": {
    "hash": "220a9a68d505f4c7a51e008be3a4ccd0bc283392114da512e1670c540685869c"
   }
  }
 },
 "nbformat": 4,
 "nbformat_minor": 2,
 "cells": [
  {
   "source": [
    "# TIC-TAC-TOE Markov Decision Process"
   ],
   "cell_type": "markdown",
   "metadata": {}
  },
  {
   "source": [
    "## Auxiliary functions to build the model"
   ],
   "cell_type": "markdown",
   "metadata": {}
  },
  {
   "cell_type": "code",
   "execution_count": 1,
   "metadata": {},
   "outputs": [],
   "source": [
    "%run tic_tac_toe_aux_funcs.py\n",
    "%run ../libs/dynamic_programming.py"
   ]
  },
  {
   "source": [
    "## States\n",
    "- A board is represented with a 3x3 matrix and each cell can be filled with None, X or O, numerically represented with 0, 1 and 2. Hence, the number of possible boards is 3^9 = 19683.\n",
    "- Each board is uniquely identified with an ID, obtained by the conversion in base-10 of the flattened board.\n",
    "- Many boards aren't valid (e.g. the number of Xs minus number of Os is less than 0 or greater than 1) and many are equal (e.g. flip and rotation).\n",
    "- Only valid and unique boards are considered states of the MDP. Hence, the number of states is 765.\n",
    "- To map and speed up the relations between IDs and states are created two lookup tables:\n",
    "    - **id_to_state** -> for each ID are associated the following informations:\n",
    "        1. The type of the board: -1 not valid, 1 terminal, 0 otherwise. \n",
    "        2. If it's terminal the winner, otherwise the next player to play.\n",
    "        3. If it's necessary to make flip.\n",
    "        4. If it's necessary to make rotations and how many.\n",
    "        5. The assosiated state.\n",
    "    - **state_to_id** -> for each state are associated the following informations:\n",
    "        1. The type of the board: -1 not valid, 1 terminal, 0 otherwise. \n",
    "        2. If it's terminal the winner or the next player to play.\n",
    "        3. The smallest associated ID. "
   ],
   "cell_type": "markdown",
   "metadata": {}
  },
  {
   "cell_type": "code",
   "execution_count": 2,
   "metadata": {},
   "outputs": [],
   "source": [
    "# Number of IDs to checks.\n",
    "IDs = 3 ** 9\n",
    "# Create the two lookup tables.\n",
    "id_state_lkt = np.zeros((IDs, 5), dtype=np.int32)\n",
    "state_id_lkt = np.empty([0, 3], dtype=np.int32)\n",
    "# Loop for each ID.\n",
    "state = 0\n",
    "for i in range(IDs):\n",
    "    # Convert the ID to the relative board.\n",
    "    board = id_to_board(i)\n",
    "    # Compute the board rotations and symmetries.\n",
    "    ids = board_to_ids(board)\n",
    "    # Skip if already valueted.\n",
    "    if ids[0, 0] < i:\n",
    "        continue\n",
    "    # Get board info.\n",
    "    info = board_info(board)\n",
    "    # Check if the board is valid.\n",
    "    if info[0] == -1:\n",
    "        # Invalid board.\n",
    "        # Populate the id_to_state lookup table.\n",
    "        for id in ids:\n",
    "            id_state_lkt[id[0], :] = [-1, -1, -1, -1, -1]\n",
    "    elif info[0] == 0:\n",
    "        # Non-terminal board.\n",
    "        # Check next player.\n",
    "        if info[1] == 1:\n",
    "            # X's turn.\n",
    "            # Populate the id_to_state lookup table.\n",
    "            for id in ids:\n",
    "                id_state_lkt[id[0], :] = [info[0], info[1], id[1], id[2], state]\n",
    "            # Populate the state_to_id lookup table.\n",
    "            state_id_lkt = np.append(state_id_lkt, [[info[0], info[1], ids[0, 0]]], axis=0)\n",
    "            # Increase the state counter.\n",
    "            state += 1\n",
    "        else:\n",
    "            # O's turn, not a state.\n",
    "            for id in ids:\n",
    "                id_state_lkt[id[0], :] = [info[0], info[1], id[1], id[2], -1]\n",
    "    else:\n",
    "        # Terminal board.\n",
    "        # We place dummy values that we'll replace.\n",
    "        if info[1] == 0:\n",
    "            # Draw: -2.\n",
    "            for id in ids:\n",
    "                id_state_lkt[id[0], :] = [info[0], info[1], id[1], id[2], -2]\n",
    "        elif info[1] == 1:\n",
    "            # Win: -3.\n",
    "            for id in ids:\n",
    "                id_state_lkt[id[0], :] = [info[0], info[1], id[1], id[2], -3]\n",
    "        else:\n",
    "            # Loss: -4.\n",
    "            for id in ids:\n",
    "                id_state_lkt[id[0], :] = [info[0], info[1], id[1], id[2], -4]\n",
    "# Add terminal states to lookup table.\n",
    "state_id_lkt = np.append(state_id_lkt, [[1, 0, -1]], axis=0)  # index: state\n",
    "state_id_lkt = np.append(state_id_lkt, [[1, 1, -2]], axis=0)  # index: state + 1\n",
    "state_id_lkt = np.append(state_id_lkt, [[1, 2, -3]], axis=0)  # index: state + 2\n",
    "# Remap terminal states.\n",
    "id_state_lkt[(id_state_lkt[:, -1] == -2), -1] = state\n",
    "id_state_lkt[(id_state_lkt[:, -1] == -3), -1] = state + 1\n",
    "id_state_lkt[(id_state_lkt[:, -1] == -4), -1] = state + 2\n",
    "\n",
    "# Number of states.\n",
    "S = state_id_lkt.shape[0]\n",
    "# Number of actions.\n",
    "A = 9"
   ]
  },
  {
   "source": [
    "## Transitions matrix\n",
    "- The transitions matrix P has dimensions *S x S x A*.\n",
    "- Use the *Law of Total Probability* to create P.\n",
    "- ***P_X(s,s',a)***: the transition from s to s' is deterministaclly defined by action a taken.\n",
    "- ***P_O(s,s')***: the transition from s to s' is randomic, in particular the opponent's policy is uniform.\n",
    "- ***P = P_X \\* P_O***"
   ],
   "cell_type": "markdown",
   "metadata": {}
  },
  {
   "cell_type": "code",
   "execution_count": 3,
   "metadata": {
    "tags": []
   },
   "outputs": [],
   "source": [
    "prec = np.float128\n",
    "\n",
    "# Create transitions matrix P.\n",
    "P = np.zeros((S, S, A), dtype=prec)\n",
    "for s in range(S):\n",
    "    info = state_id_lkt[s]\n",
    "    if info[0] == 1:\n",
    "        # Terminal state: all actions lead here.\n",
    "        P[s, s, :] = 1.0\n",
    "    else:\n",
    "        # Not a terminal board.\n",
    "        # What can we do?\n",
    "        actions_X = get_actions(info[2])\n",
    "        # SANITY CHECK\n",
    "        if len(actions_X) == 0:\n",
    "            print(\"ERROR IN P GENERATION: NO POSSIBLE ACTIONS FOR X.\")\n",
    "            raise\n",
    "        for a_X in range(A):\n",
    "            if a_X in actions_X:\n",
    "                # Possible action.\n",
    "                # Compute the new board and its ID.\n",
    "                id = np.copy(info[2])\n",
    "                id_X = id + (3 ** (8 - a_X))\n",
    "                # Check if this is a terminal state.\n",
    "                if id_state_lkt[id_X, 0] == 1:\n",
    "                    if id_state_lkt[id_X, 1] == 0:\n",
    "                        # Draw.\n",
    "                        P[s, S - 3, a_X] = 1.0\n",
    "                    elif id_state_lkt[id_X, 1] == 1:\n",
    "                        # Win.\n",
    "                        P[s, S - 2, a_X] = 1.0\n",
    "                    else:\n",
    "                        print(\"ERROR IN P GENERATION: TERMINAL STATE INVALID.\")\n",
    "                        raise\n",
    "                else:\n",
    "                    # Get the next state from the new ID.\n",
    "                    actions_O = get_actions(id_X)\n",
    "                    if len(actions_O) == 0:\n",
    "                        print(\"ERROR IN P GENERATION: EMPTY O ACTIONS.\")\n",
    "                        raise\n",
    "                    for a_O in actions_O:\n",
    "                        id_O = id_X + 2 * (3 ** (8 - a_O))\n",
    "                        sp = id_state_lkt[id_O, 4]\n",
    "                        # SANITY CHECK\n",
    "                        if sp < 0:\n",
    "                            print(\"ERROR IN P GENERATION: NEXT STATE {} INVALID.\".format([id_O, sp]))\n",
    "                            raise\n",
    "                        P[s, sp, a_X] += 1.0 / float(len(actions_O))\n",
    "            else:\n",
    "                # Impossible action: stay here.\n",
    "                P[s, s, a_X] = 1.0"
   ]
  },
  {
   "source": [
    "## Row-stochasticity checks"
   ],
   "cell_type": "markdown",
   "metadata": {}
  },
  {
   "cell_type": "code",
   "execution_count": 4,
   "metadata": {
    "tags": []
   },
   "outputs": [
    {
     "output_type": "stream",
     "name": "stdout",
     "text": [
      "0\n"
     ]
    }
   ],
   "source": [
    "sto = np.zeros((S, A))\n",
    "for a in range(A):\n",
    "    for i, row in enumerate(P[:, :, a]):\n",
    "        sto[i, a] = np.sum(row)\n",
    "print(np.count_nonzero(sto != 1.0))"
   ]
  },
  {
   "source": [
    "## Rewards matrix\n",
    "- +1 for an action that leads to a winning board.\n",
    "- -1 for an action that leads to a losing board.\n",
    "- 0 for any other actions.\n",
    "- Expected rewards matrix R has dimentions *S x A*.\n",
    "- Create a reward vector with dimention S that for each state says 1, 0, -1  in base of its type.\n",
    "- For each couple state-action, take the transitions vector P(s, :, a) \n",
    "- Compute the expected reward for the state s as the inner product of the two former vectors.\n"
   ],
   "cell_type": "markdown",
   "metadata": {}
  },
  {
   "cell_type": "code",
   "execution_count": 5,
   "metadata": {},
   "outputs": [],
   "source": [
    "prec = np.float128\n",
    "# Create the rewards vector.\n",
    "# Standard reward.\n",
    "reward_vector = np.zeros(S, dtype=prec)\n",
    "# Least possible number of moves.\n",
    "# reward_vector = np.full(S, -1.0, dtype=prec)\n",
    "# Set reward for win and loss.\n",
    "reward_vector[-2] = 1.0\n",
    "reward_vector[-1] = -1.0\n",
    "\n",
    "# Create rewards matrix.\n",
    "R = np.zeros((S, A), dtype=prec)\n",
    "# Loop for each state.\n",
    "for s in range(S):\n",
    "    # Get state info.\n",
    "    info = state_id_lkt[s]\n",
    "    if info[0] == 1:\n",
    "        continue\n",
    "    # Get valid actions.\n",
    "    actions = get_actions(info[2])\n",
    "    # Loop for each action.\n",
    "    for a in range(A):\n",
    "        if a in actions:\n",
    "            R[s, a] = np.matmul(np.copy(P[s, :, a]), reward_vector, dtype=prec)\n",
    "        else:\n",
    "            # Soft constrain for invalid move.\n",
    "            R[s, a] = -1.0"
   ]
  },
  {
   "cell_type": "code",
   "execution_count": 6,
   "metadata": {},
   "outputs": [],
   "source": [
    "# Dump data on files.\n",
    "id_state_lkt.dump(\"ttt_id2s.dat\")\n",
    "state_id_lkt.dump(\"ttt_s2id.dat\")\n",
    "P.dump(\"ttt_P.dat\")\n",
    "R.dump(\"ttt_R.dat\")"
   ]
  }
 ]
}